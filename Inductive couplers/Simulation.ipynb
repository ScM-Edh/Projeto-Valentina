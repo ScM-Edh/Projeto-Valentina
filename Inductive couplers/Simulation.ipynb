{
 "cells": [
  {
   "cell_type": "code",
   "execution_count": 2,
   "id": "c3f16202",
   "metadata": {},
   "outputs": [],
   "source": [
    "%load_ext autoreload\n",
    "%autoreload 2"
   ]
  },
  {
   "cell_type": "code",
   "execution_count": 3,
   "id": "1f860570",
   "metadata": {},
   "outputs": [],
   "source": [
    "import qiskit_metal as metal\n",
    "from qiskit_metal import Dict, designs, MetalGUI"
   ]
  },
  {
   "cell_type": "code",
   "execution_count": 4,
   "id": "b1ff380b",
   "metadata": {},
   "outputs": [],
   "source": [
    "design = designs.DesignPlanar(overwrite_enabled=True)"
   ]
  },
  {
   "cell_type": "code",
   "execution_count": 5,
   "id": "4dec6ae2",
   "metadata": {},
   "outputs": [],
   "source": [
    "gui = MetalGUI(design)"
   ]
  },
  {
   "cell_type": "code",
   "execution_count": 6,
   "id": "85bdae6a",
   "metadata": {},
   "outputs": [],
   "source": [
    "design.variables['cpw_width']='20um'\n",
    "design.variables['cpw_gap']='12um'"
   ]
  },
  {
   "cell_type": "markdown",
   "id": "bb2e87f6",
   "metadata": {},
   "source": [
    "# Capacitors"
   ]
  },
  {
   "cell_type": "code",
   "execution_count": 7,
   "id": "fcd0117a",
   "metadata": {},
   "outputs": [
    {
     "data": {
      "text/plain": [
       "{'chip': 'main',\n",
       " 'layer': '1',\n",
       " 'pin_inputs': {'start_pin': {'component': '', 'pin': ''},\n",
       "  'end_pin': {'component': '', 'pin': ''}},\n",
       " 'fillet': '0',\n",
       " 'lead': {'start_straight': '0mm',\n",
       "  'end_straight': '0mm',\n",
       "  'start_jogged_extension': '',\n",
       "  'end_jogged_extension': ''},\n",
       " 'total_length': '7mm',\n",
       " 'trace_width': 'cpw_width',\n",
       " 'hfss_wire_bonds': False,\n",
       " 'q3d_wire_bonds': False,\n",
       " 'aedt_q3d_wire_bonds': False,\n",
       " 'aedt_hfss_wire_bonds': False}"
      ]
     },
     "execution_count": 7,
     "metadata": {},
     "output_type": "execute_result"
    }
   ],
   "source": [
    "from qiskit_metal.qlibrary.tlines.framed_path import RouteFramed\n",
    "from qiskit_metal.qlibrary.terminations.open_to_ground import OpenToGround\n",
    "import numpy as np\n",
    "from collections import OrderedDict\n",
    "from qiskit_metal.qlibrary.tlines.anchored_path import RouteAnchors\n",
    "RouteFramed.get_template_options(design)"
   ]
  },
  {
   "cell_type": "code",
   "execution_count": 8,
   "id": "084f227d",
   "metadata": {},
   "outputs": [],
   "source": [
    "# Capacitor 1\n",
    "\n",
    "otg11 = OpenToGround(design, 'OTG11', options=Dict(\n",
    "    pos_x='2mm',\n",
    "    pos_y='-100um',\n",
    "    orientation='0',\n",
    "    width='20um',\n",
    "    gap='12um',\n",
    "    termination_gap='12um'\n",
    "))\n",
    "otg12 = OpenToGround(design, 'OTG12', options=Dict(\n",
    "    pos_x='1mm',\n",
    "    pos_y='1mm',\n",
    "    orientation='90',\n",
    "    width='20um',\n",
    "    gap='12um',\n",
    "    termination_gap='12um'\n",
    "))\n",
    "otg13 = OpenToGround(design, 'OTG13', options=Dict(\n",
    "    pos_x='1mm',\n",
    "    pos_y='-170um',\n",
    "    orientation='180',\n",
    "    width='20um',\n",
    "    gap='12um',\n",
    "    termination_gap='12um'\n",
    "))\n",
    "otg14 = OpenToGround(design, 'OTG14', options=Dict(\n",
    "    pos_x='2mm',\n",
    "    pos_y='-1mm',\n",
    "    orientation='-90',\n",
    "    width='20um',\n",
    "    gap='12um',\n",
    "    termination_gap='12um'\n",
    "))\n",
    "\n",
    "cap_opt = Dict(\n",
    "    pin_inputs=Dict(\n",
    "        start_pin=Dict(\n",
    "            pin='open'\n",
    "        ),\n",
    "        end_pin=Dict(\n",
    "            pin='open'\n",
    "        )\n",
    "    ),\n",
    "    fillet='130um'\n",
    ")\n",
    "\n",
    "cap_opt.pin_inputs.start_pin.component='OTG11'\n",
    "cap_opt.pin_inputs.end_pin.component='OTG12'\n",
    "cap11 = RouteFramed(design, 'CAP11', options=cap_opt)\n",
    "cap_opt.pin_inputs.start_pin.component='OTG13'\n",
    "cap_opt.pin_inputs.end_pin.component='OTG14'\n",
    "cap12 = RouteFramed(design, 'CAP12', options=cap_opt)\n",
    "\n",
    "gui.rebuild()\n",
    "gui.autoscale()"
   ]
  },
  {
   "cell_type": "code",
   "execution_count": 9,
   "id": "b1bd0612",
   "metadata": {},
   "outputs": [],
   "source": [
    "# Capacitor 2\n",
    "\n",
    "anchors = OrderedDict()\n",
    "anchors[0] = np.array([5.5, 0])\n",
    "\n",
    "\n",
    "otg21 = OpenToGround(design, 'OTG21', options=Dict(\n",
    "    pos_x='5mm',\n",
    "    pos_y='1mm',\n",
    "    orientation='90',\n",
    "    width='20um',\n",
    "    gap='12um',\n",
    "    termination_gap='12um'\n",
    "))\n",
    "otg22 = OpenToGround(design, 'OTG22', options=Dict(\n",
    "    pos_x='6mm',\n",
    "    pos_y='1mm',\n",
    "    orientation='90',\n",
    "    width='20um',\n",
    "    gap='12um',\n",
    "    termination_gap='12um'\n",
    "))\n",
    "otg23 = OpenToGround(design, 'OTG23', options=Dict(\n",
    "    pos_x='5mm',\n",
    "    pos_y='-1mm',\n",
    "    orientation='-90',\n",
    "    width='20um',\n",
    "    gap='12um',\n",
    "    termination_gap='12um'\n",
    "))\n",
    "otg24 = OpenToGround(design, 'OTG24', options=Dict(\n",
    "    pos_x='6mm',\n",
    "    pos_y='-1mm',\n",
    "    orientation='-90',\n",
    "    width='20um',\n",
    "    gap='12um',\n",
    "    termination_gap='12um'\n",
    "))\n",
    "\n",
    "cap_opt = Dict(\n",
    "    pin_inputs=Dict(\n",
    "        start_pin=Dict(\n",
    "            pin='open'\n",
    "        ),\n",
    "        end_pin=Dict(\n",
    "            pin='open'\n",
    "        )\n",
    "    ),\n",
    "    fillet='130um', \n",
    "    anchors=anchors\n",
    ")\n",
    "\n",
    "cap_opt.pin_inputs.start_pin.component='OTG21'\n",
    "cap_opt.pin_inputs.end_pin.component='OTG22'\n",
    "cap21 = RouteAnchors(design, 'CAP21', options=cap_opt)\n",
    "anchors[0] = np.array([5.5, -0.07])\n",
    "cap_opt.anchors = anchors\n",
    "cap_opt.pin_inputs.start_pin.component='OTG23'\n",
    "cap_opt.pin_inputs.end_pin.component='OTG24'\n",
    "cap22 = RouteAnchors(design, 'CAP22', options=cap_opt)\n",
    "\n",
    "gui.rebuild()\n",
    "gui.autoscale()"
   ]
  },
  {
   "cell_type": "code",
   "execution_count": 40,
   "id": "66735dea",
   "metadata": {},
   "outputs": [
    {
     "data": {
      "text/plain": [
       "\u001b[95m\u001b[1mname:    \u001b[94m\u001b[1mCAP21\u001b[0m\n",
       "\u001b[95m\u001b[1mclass:   \u001b[94m\u001b[1mRouteAnchors          \u001b[0m\n",
       "\u001b[95m\u001b[1moptions: \u001b[0m\n",
       "  'chip'              : 'main',                       \n",
       "  'layer'             : '1',                          \n",
       "  \u001b[1m'pin_inputs'        \u001b[0m: {\n",
       "       \u001b[1m'start_pin'         \u001b[0m: {\n",
       "            'component'         : 'OTG21',                      \n",
       "            'pin'               : 'open',                       \n",
       "                             },\n",
       "       \u001b[1m'end_pin'           \u001b[0m: {\n",
       "            'component'         : 'OTG22',                      \n",
       "            'pin'               : 'open',                       \n",
       "                             },\n",
       "                        },\n",
       "  'fillet'            : '130um',                      \n",
       "  \u001b[1m'lead'              \u001b[0m: {\n",
       "       'start_straight'    : '0mm',                        \n",
       "       'end_straight'      : '0mm',                        \n",
       "       'start_jogged_extension': '',                           \n",
       "       'end_jogged_extension': '',                           \n",
       "                        },\n",
       "  'total_length'      : '7mm',                        \n",
       "  'trace_width'       : 'cpw_width',                  \n",
       "  \u001b[1m'anchors'           \u001b[0m: {\n",
       "       0                   : array([5.5, 0. ]),            \n",
       "                        },\n",
       "  \u001b[1m'advanced'          \u001b[0m: {\n",
       "       'avoid_collision'   : 'false',                      \n",
       "                        },\n",
       "  'hfss_wire_bonds'   : False,                        \n",
       "  'q3d_wire_bonds'    : False,                        \n",
       "  'aedt_q3d_wire_bonds': False,                        \n",
       "  'aedt_hfss_wire_bonds': False,                        \n",
       "  'trace_gap'         : 'cpw_gap',                    \n",
       "  '_actual_length'    : '2.888407044966673 mm',       \n",
       "\u001b[95m\u001b[1mmodule:  \u001b[94m\u001b[1mqiskit_metal.qlibrary.tlines.anchored_path\u001b[0m\n",
       "\u001b[95m\u001b[1mid:      \u001b[94m\u001b[1m11\u001b[0m"
      ]
     },
     "execution_count": 40,
     "metadata": {},
     "output_type": "execute_result"
    }
   ],
   "source": [
    "cap21"
   ]
  },
  {
   "cell_type": "code",
   "execution_count": 10,
   "id": "3e416184",
   "metadata": {},
   "outputs": [],
   "source": [
    "# Capacitor 3\n",
    "\n",
    "otg31 = OpenToGround(design, 'OTG31', options=Dict(\n",
    "    pos_x='8mm',\n",
    "    pos_y='0mm',\n",
    "    orientation='180',\n",
    "    width='20um',\n",
    "    gap='12um',\n",
    "    termination_gap='12um'\n",
    "))\n",
    "otg32 = OpenToGround(design, 'OTG32', options=Dict(\n",
    "    pos_x='11mm',\n",
    "    pos_y='0mm',\n",
    "    orientation='0',\n",
    "    width='20um',\n",
    "    gap='12um',\n",
    "    termination_gap='12um'\n",
    "))\n",
    "otg33 = OpenToGround(design, 'OTG33', options=Dict(\n",
    "    pos_x='9mm',\n",
    "    pos_y='-70um',\n",
    "    orientation='180',\n",
    "    width='20um',\n",
    "    gap='12um',\n",
    "    termination_gap='12um'\n",
    "))\n",
    "otg34 = OpenToGround(design, 'OTG34', options=Dict(\n",
    "    pos_x='10mm',\n",
    "    pos_y='-1mm',\n",
    "    orientation='-90',\n",
    "    width='20um',\n",
    "    gap='12um',\n",
    "    termination_gap='12um'\n",
    "))\n",
    "\n",
    "cap_opt = Dict(\n",
    "    pin_inputs=Dict(\n",
    "        start_pin=Dict(\n",
    "            pin='open'\n",
    "        ),\n",
    "        end_pin=Dict(\n",
    "            pin='open'\n",
    "        )\n",
    "    ),\n",
    "    fillet='130um'\n",
    ")\n",
    "\n",
    "cap_opt.pin_inputs.start_pin.component='OTG31'\n",
    "cap_opt.pin_inputs.end_pin.component='OTG32'\n",
    "cap31 = RouteFramed(design, 'CAP31', options=cap_opt)\n",
    "cap_opt.pin_inputs.start_pin.component='OTG33'\n",
    "cap_opt.pin_inputs.end_pin.component='OTG34'\n",
    "cap32 = RouteFramed(design, 'CAP32', options=cap_opt)\n",
    "\n",
    "gui.rebuild()\n",
    "gui.autoscale()"
   ]
  },
  {
   "cell_type": "code",
   "execution_count": 11,
   "id": "7ea33686",
   "metadata": {},
   "outputs": [],
   "source": [
    "# Capacitor 4\n",
    "\n",
    "anchors = OrderedDict()\n",
    "anchors[0] = np.array([14.5, -0.07])\n",
    "\n",
    "otg41 = OpenToGround(design, 'OTG41', options=Dict(\n",
    "    pos_x='13mm',\n",
    "    pos_y='0mm',\n",
    "    orientation='180',\n",
    "    width='20um',\n",
    "    gap='12um',\n",
    "    termination_gap='12um'\n",
    "))\n",
    "otg42 = OpenToGround(design, 'OTG42', options=Dict(\n",
    "    pos_x='16mm',\n",
    "    pos_y='0mm',\n",
    "    orientation='0',\n",
    "    width='20um',\n",
    "    gap='12um',\n",
    "    termination_gap='12um'\n",
    "))\n",
    "otg43 = OpenToGround(design, 'OTG43', options=Dict(\n",
    "    pos_x='14mm',\n",
    "    pos_y='-1mm',\n",
    "    orientation='-90',\n",
    "    width='20um',\n",
    "    gap='12um',\n",
    "    termination_gap='12um'\n",
    "))\n",
    "otg44 = OpenToGround(design, 'OTG44', options=Dict(\n",
    "    pos_x='15mm',\n",
    "    pos_y='-1mm',\n",
    "    orientation='-90',\n",
    "    width='20um',\n",
    "    gap='12um',\n",
    "    termination_gap='12um'\n",
    "))\n",
    "\n",
    "cap_opt = Dict(\n",
    "    pin_inputs=Dict(\n",
    "        start_pin=Dict(\n",
    "            pin='open'\n",
    "        ),\n",
    "        end_pin=Dict(\n",
    "            pin='open'\n",
    "        )\n",
    "    ),\n",
    "    fillet='130um'\n",
    ")\n",
    "\n",
    "cap_opt.pin_inputs.start_pin.component='OTG41'\n",
    "cap_opt.pin_inputs.end_pin.component='OTG42'\n",
    "cap41 = RouteFramed(design, 'CAP41', options=cap_opt)\n",
    "cap_opt.pin_inputs.start_pin.component='OTG43'\n",
    "cap_opt.pin_inputs.end_pin.component='OTG44'\n",
    "cap_opt.anchors = anchors\n",
    "cap42 = RouteAnchors(design, 'CAP42', options=cap_opt)\n",
    "\n",
    "gui.rebuild()\n",
    "gui.autoscale()"
   ]
  },
  {
   "cell_type": "code",
   "execution_count": 10,
   "id": "32bb5e9d",
   "metadata": {},
   "outputs": [
    {
     "name": "stderr",
     "output_type": "stream",
     "text": [
      "02:10PM 30s CRITICAL [_qt_message_handler]: line: 0, func: None(), file: None  WARNING: QWindowsNativeFileDialogBase::selectNameFilter: Invalid parameter '*.metal.py' not found in 'All Files (*)'.\n",
      "\n",
      "02:10PM 30s CRITICAL [_qt_message_handler]: line: 0, func: None(), file: None  WARNING: QWindowsNativeFileDialogBase::selectNameFilter: Invalid parameter '*.metal.py' not found in 'All Files (*)'.\n",
      "\n"
     ]
    },
    {
     "data": {
      "text/plain": [
       "True"
      ]
     },
     "execution_count": 10,
     "metadata": {},
     "output_type": "execute_result"
    }
   ],
   "source": [
    "gui.main_window.close()"
   ]
  },
  {
   "cell_type": "code",
   "execution_count": 12,
   "id": "df1b04f5",
   "metadata": {},
   "outputs": [],
   "source": [
    "from qiskit_metal import renderers"
   ]
  },
  {
   "cell_type": "code",
   "execution_count": 13,
   "id": "06a11a4b",
   "metadata": {},
   "outputs": [],
   "source": [
    "ansys = design.renderers.q3d"
   ]
  },
  {
   "cell_type": "code",
   "execution_count": 14,
   "id": "29a1b951",
   "metadata": {},
   "outputs": [
    {
     "name": "stderr",
     "output_type": "stream",
     "text": [
      "INFO 03:59PM [connect_project]: Connecting to Ansys Desktop API...\n",
      "INFO 03:59PM [load_ansys_project]: \tOpened Ansys App\n",
      "INFO 03:59PM [load_ansys_project]: \tOpened Ansys Desktop v2025.1.0\n",
      "INFO 03:59PM [load_ansys_project]: \tOpened Ansys Project\n",
      "\tFolder:    C:/Users/v259148/Documents/Ansoft/\n",
      "\tProject:   Project9\n",
      "INFO 03:59PM [connect_design]: No active design found (or error getting active design).\n",
      "INFO 03:59PM [connect]: \t Connected to project \"Project9\". No design detected\n"
     ]
    }
   ],
   "source": [
    "ansys.connect_ansys()"
   ]
  },
  {
   "cell_type": "code",
   "execution_count": null,
   "id": "059eec40",
   "metadata": {},
   "outputs": [],
   "source": []
  },
  {
   "cell_type": "markdown",
   "id": "8681b41d",
   "metadata": {},
   "source": [
    "# Simulacao Capacitor 1"
   ]
  },
  {
   "cell_type": "code",
   "execution_count": null,
   "id": "02e2c430",
   "metadata": {},
   "outputs": [
    {
     "name": "stderr",
     "output_type": "stream",
     "text": [
      "03:59PM 24s WARNING [add_q3d_design]: This method is deprecated. Change your scripts to use new_ansys_design()\n",
      "INFO 04:00PM [connect_design]: \tOpened active design\n",
      "\tDesign:    Capacitores [Solution type: Q3D]\n",
      "WARNING 04:00PM [connect_setup]: \tNo design setup detected.\n",
      "WARNING 04:00PM [connect_setup]: \tCreating Q3D default setup.\n",
      "INFO 04:00PM [get_setup]: \tOpened setup `Setup`  (<class 'pyEPR.ansys.AnsysQ3DSetup'>)\n"
     ]
    }
   ],
   "source": [
    "\n",
    "ansys.add_q3d_design('Capacitores')"
   ]
  },
  {
   "cell_type": "code",
   "execution_count": 17,
   "id": "07bebb1f",
   "metadata": {},
   "outputs": [],
   "source": [
    "ansys.clean_active_design()\n",
    "ansys.render_design(selection=['CAP11','CAP12'], open_pins=[('CAP11', 'start'),('CAP11', 'end'), ('CAP12', 'start'), ('CAP12', 'end')])"
   ]
  },
  {
   "cell_type": "code",
   "execution_count": 18,
   "id": "56edeef8",
   "metadata": {},
   "outputs": [
    {
     "data": {
      "text/plain": [
       "<pyEPR.ansys.AnsysQ3DSetup at 0x25973201410>"
      ]
     },
     "execution_count": 18,
     "metadata": {},
     "output_type": "execute_result"
    }
   ],
   "source": [
    "ansys.add_q3d_setup(\n",
    "    name = 'cap1',\n",
    "    freq_ghz = 11.0,\n",
    "    max_passes= 12,\n",
    "    min_passes = 2,\n",
    "    min_converged_passes = 2,\n",
    "    percent_error=0.2\n",
    ")"
   ]
  },
  {
   "cell_type": "code",
   "execution_count": 19,
   "id": "af1c7a41",
   "metadata": {},
   "outputs": [
    {
     "name": "stderr",
     "output_type": "stream",
     "text": [
      "INFO 04:08PM [get_setup]: \tOpened setup `cap1`  (<class 'pyEPR.ansys.AnsysQ3DSetup'>)\n",
      "INFO 04:08PM [analyze]: Analyzing setup cap1\n"
     ]
    }
   ],
   "source": [
    "ansys.analyze_setup('cap1')"
   ]
  },
  {
   "cell_type": "code",
   "execution_count": 20,
   "id": "a5347239",
   "metadata": {},
   "outputs": [
    {
     "name": "stderr",
     "output_type": "stream",
     "text": [
      "INFO 04:09PM [get_matrix]: Exporting matrix data to (C:\\Users\\v259148\\AppData\\Local\\Temp\\12\\tmptkhuy5hg.txt, C, , cap1:LastAdaptive, \"Original\", \"ohm\", \"nH\", \"fF\", \"mSie\", 11000000000, Maxwell, 1, False\n"
     ]
    },
    {
     "data": {
      "text/plain": [
       "(                   ground_main_plane  trace_CAP11  trace_CAP12\n",
       " ground_main_plane          712.04678   -328.64675   -285.55411\n",
       " trace_CAP11               -328.64675    337.64118     -7.21750\n",
       " trace_CAP12               -285.55411     -7.21750    293.57443,\n",
       " 'fF')"
      ]
     },
     "execution_count": 20,
     "metadata": {},
     "output_type": "execute_result"
    }
   ],
   "source": [
    "ansys.get_capacitance_matrix()"
   ]
  },
  {
   "cell_type": "markdown",
   "id": "3631927b",
   "metadata": {},
   "source": [
    "# Simulação Capacitor 2"
   ]
  },
  {
   "cell_type": "code",
   "execution_count": 21,
   "id": "67681569",
   "metadata": {},
   "outputs": [
    {
     "name": "stderr",
     "output_type": "stream",
     "text": [
      "04:12PM 54s WARNING [add_q3d_design]: This method is deprecated. Change your scripts to use new_ansys_design()\n",
      "INFO 04:12PM [connect_design]: \tOpened active design\n",
      "\tDesign:    Capacitore2 [Solution type: Q3D]\n",
      "WARNING 04:12PM [connect_setup]: \tNo design setup detected.\n",
      "WARNING 04:12PM [connect_setup]: \tCreating Q3D default setup.\n",
      "INFO 04:12PM [get_setup]: \tOpened setup `Setup`  (<class 'pyEPR.ansys.AnsysQ3DSetup'>)\n"
     ]
    }
   ],
   "source": [
    "\n",
    "ansys.add_q3d_design('Capacitore2')"
   ]
  },
  {
   "cell_type": "code",
   "execution_count": 22,
   "id": "de7a6917",
   "metadata": {},
   "outputs": [],
   "source": [
    "ansys.clean_active_design()\n",
    "ansys.render_design(selection=['CAP21','CAP22'], open_pins=[('CAP21', 'start'),('CAP21', 'end'), ('CAP22', 'start'), ('CAP22', 'end')])"
   ]
  },
  {
   "cell_type": "code",
   "execution_count": 23,
   "id": "b576a059",
   "metadata": {},
   "outputs": [
    {
     "data": {
      "text/plain": [
       "<pyEPR.ansys.AnsysQ3DSetup at 0x25973224190>"
      ]
     },
     "execution_count": 23,
     "metadata": {},
     "output_type": "execute_result"
    }
   ],
   "source": [
    "ansys.add_q3d_setup(\n",
    "    name = 'cap2',\n",
    "    freq_ghz = 11.0,\n",
    "    max_passes= 12,\n",
    "    min_passes = 2,\n",
    "    min_converged_passes = 2,\n",
    "    percent_error=0.2\n",
    ")"
   ]
  },
  {
   "cell_type": "code",
   "execution_count": 25,
   "id": "7d6c465c",
   "metadata": {},
   "outputs": [
    {
     "name": "stderr",
     "output_type": "stream",
     "text": [
      "INFO 04:13PM [get_setup]: \tOpened setup `cap2`  (<class 'pyEPR.ansys.AnsysQ3DSetup'>)\n",
      "INFO 04:13PM [analyze]: Analyzing setup cap2\n"
     ]
    }
   ],
   "source": [
    "ansys.analyze_setup('cap2')"
   ]
  },
  {
   "cell_type": "code",
   "execution_count": 26,
   "id": "9b5d8bca",
   "metadata": {},
   "outputs": [
    {
     "name": "stderr",
     "output_type": "stream",
     "text": [
      "INFO 04:15PM [get_matrix]: Exporting matrix data to (C:\\Users\\v259148\\AppData\\Local\\Temp\\12\\tmp50enn555.txt, C, , cap2:LastAdaptive, \"Original\", \"ohm\", \"nH\", \"fF\", \"mSie\", 11000000000, Maxwell, 1, False\n"
     ]
    },
    {
     "data": {
      "text/plain": [
       "(                   ground_main_plane  trace_CAP21  trace_CAP22\n",
       " ground_main_plane         1012.08105   -468.49961   -446.36167\n",
       " trace_CAP21               -468.49961    477.27263     -7.45453\n",
       " trace_CAP22               -446.36167     -7.45453    455.35419,\n",
       " 'fF')"
      ]
     },
     "execution_count": 26,
     "metadata": {},
     "output_type": "execute_result"
    }
   ],
   "source": [
    "ansys.get_capacitance_matrix()"
   ]
  },
  {
   "cell_type": "markdown",
   "id": "f54b2b10",
   "metadata": {},
   "source": [
    "# Simulação Capacitor 3"
   ]
  },
  {
   "cell_type": "code",
   "execution_count": 27,
   "id": "d52dff27",
   "metadata": {},
   "outputs": [
    {
     "name": "stderr",
     "output_type": "stream",
     "text": [
      "04:15PM 50s WARNING [add_q3d_design]: This method is deprecated. Change your scripts to use new_ansys_design()\n",
      "INFO 04:15PM [connect_design]: \tOpened active design\n",
      "\tDesign:    Capacitor3 [Solution type: Q3D]\n",
      "WARNING 04:15PM [connect_setup]: \tNo design setup detected.\n",
      "WARNING 04:15PM [connect_setup]: \tCreating Q3D default setup.\n",
      "INFO 04:15PM [get_setup]: \tOpened setup `Setup`  (<class 'pyEPR.ansys.AnsysQ3DSetup'>)\n"
     ]
    }
   ],
   "source": [
    "ansys.add_q3d_design('Capacitor3')"
   ]
  },
  {
   "cell_type": "code",
   "execution_count": 28,
   "id": "5736d00f",
   "metadata": {},
   "outputs": [],
   "source": [
    "ansys.clean_active_design()\n",
    "ansys.render_design(selection=['CAP31','CAP32'], open_pins=[('CAP31', 'start'),('CAP31', 'end'), ('CAP32', 'start'), ('CAP32', 'end')])"
   ]
  },
  {
   "cell_type": "code",
   "execution_count": 31,
   "id": "f78a39ca",
   "metadata": {},
   "outputs": [
    {
     "data": {
      "text/plain": [
       "<pyEPR.ansys.AnsysQ3DSetup at 0x259792959d0>"
      ]
     },
     "execution_count": 31,
     "metadata": {},
     "output_type": "execute_result"
    }
   ],
   "source": [
    "ansys.add_q3d_setup(\n",
    "    name = 'cap3',\n",
    "    freq_ghz = 11.0,\n",
    "    max_passes= 12,\n",
    "    min_passes = 2,\n",
    "    min_converged_passes = 2,\n",
    "    percent_error=0.2\n",
    ")"
   ]
  },
  {
   "cell_type": "code",
   "execution_count": 32,
   "id": "c106bdec",
   "metadata": {},
   "outputs": [
    {
     "name": "stderr",
     "output_type": "stream",
     "text": [
      "INFO 04:16PM [get_setup]: \tOpened setup `cap3`  (<class 'pyEPR.ansys.AnsysQ3DSetup'>)\n",
      "INFO 04:16PM [analyze]: Analyzing setup cap3\n"
     ]
    }
   ],
   "source": [
    "ansys.analyze_setup('cap3')"
   ]
  },
  {
   "cell_type": "code",
   "execution_count": 33,
   "id": "cf7b06e5",
   "metadata": {},
   "outputs": [
    {
     "name": "stderr",
     "output_type": "stream",
     "text": [
      "INFO 04:17PM [get_matrix]: Exporting matrix data to (C:\\Users\\v259148\\AppData\\Local\\Temp\\12\\tmpz8y3c2yb.txt, C, , cap3:LastAdaptive, \"Original\", \"ohm\", \"nH\", \"fF\", \"mSie\", 11000000000, Maxwell, 1, False\n"
     ]
    },
    {
     "data": {
      "text/plain": [
       "(                   ground_main_plane  trace_CAP31  trace_CAP32\n",
       " ground_main_plane          897.35479   -480.52771   -299.25822\n",
       " trace_CAP31               -480.52771    490.21388     -8.18491\n",
       " trace_CAP32               -299.25822     -8.18491    308.11438,\n",
       " 'fF')"
      ]
     },
     "execution_count": 33,
     "metadata": {},
     "output_type": "execute_result"
    }
   ],
   "source": [
    "ansys.get_capacitance_matrix()"
   ]
  },
  {
   "cell_type": "markdown",
   "id": "263c9edb",
   "metadata": {},
   "source": [
    "# Simulação Capacitor 4"
   ]
  },
  {
   "cell_type": "code",
   "execution_count": 34,
   "id": "6bf559e2",
   "metadata": {},
   "outputs": [
    {
     "name": "stderr",
     "output_type": "stream",
     "text": [
      "04:17PM 35s WARNING [add_q3d_design]: This method is deprecated. Change your scripts to use new_ansys_design()\n",
      "INFO 04:17PM [connect_design]: \tOpened active design\n",
      "\tDesign:    Capacitor4 [Solution type: Q3D]\n",
      "WARNING 04:17PM [connect_setup]: \tNo design setup detected.\n",
      "WARNING 04:17PM [connect_setup]: \tCreating Q3D default setup.\n",
      "INFO 04:17PM [get_setup]: \tOpened setup `Setup`  (<class 'pyEPR.ansys.AnsysQ3DSetup'>)\n"
     ]
    }
   ],
   "source": [
    "ansys.add_q3d_design('Capacitor4')"
   ]
  },
  {
   "cell_type": "code",
   "execution_count": 35,
   "id": "110e8c41",
   "metadata": {},
   "outputs": [],
   "source": [
    "ansys.clean_active_design()\n",
    "ansys.render_design(selection=['CAP41','CAP42'], open_pins=[('CAP41', 'start'),('CAP41', 'end'), ('CAP42', 'start'), ('CAP42', 'end')])"
   ]
  },
  {
   "cell_type": "code",
   "execution_count": 36,
   "id": "556c81b9",
   "metadata": {},
   "outputs": [
    {
     "data": {
      "text/plain": [
       "<pyEPR.ansys.AnsysQ3DSetup at 0x2597320e6d0>"
      ]
     },
     "execution_count": 36,
     "metadata": {},
     "output_type": "execute_result"
    }
   ],
   "source": [
    "ansys.add_q3d_setup(\n",
    "    name = 'cap4',\n",
    "    freq_ghz = 11.0,\n",
    "    max_passes= 12,\n",
    "    min_passes = 2,\n",
    "    min_converged_passes = 2,\n",
    "    percent_error=0.2\n",
    ")"
   ]
  },
  {
   "cell_type": "code",
   "execution_count": 37,
   "id": "644fcc79",
   "metadata": {},
   "outputs": [
    {
     "name": "stderr",
     "output_type": "stream",
     "text": [
      "INFO 04:17PM [get_setup]: \tOpened setup `cap4`  (<class 'pyEPR.ansys.AnsysQ3DSetup'>)\n",
      "INFO 04:17PM [analyze]: Analyzing setup cap4\n"
     ]
    }
   ],
   "source": [
    "ansys.analyze_setup('cap4')"
   ]
  },
  {
   "cell_type": "code",
   "execution_count": null,
   "id": "a4808d05",
   "metadata": {},
   "outputs": [
    {
     "name": "stderr",
     "output_type": "stream",
     "text": [
      "INFO 04:18PM [get_matrix]: Exporting matrix data to (C:\\Users\\v259148\\AppData\\Local\\Temp\\12\\tmp3z3qmt3x.txt, C, , cap4:LastAdaptive, \"Original\", \"ohm\", \"nH\", \"fF\", \"mSie\", 11000000000, Maxwell, 1, False\n"
     ]
    },
    {
     "data": {
      "text/plain": [
       "(                   ground_main_plane  trace_CAP41  trace_CAP42\n",
       " ground_main_plane         1039.80245   -481.22160   -441.38976\n",
       " trace_CAP41               -481.22160    490.77418     -8.04712\n",
       " trace_CAP42               -441.38976     -8.04712    450.43559,\n",
       " 'fF')"
      ]
     },
     "execution_count": 38,
     "metadata": {},
     "output_type": "execute_result"
    },
    {
     "name": "stderr",
     "output_type": "stream",
     "text": [
      "ocuments\\github\\qiskit-metal\\qiskit_metal\\_gui\\styles\\metal_dark\\rc\\transparent.pngING: Could not create pixmap from c:\\users\\v259148\n",
      "\n",
      "ocuments\\github\\qiskit-metal\\qiskit_metal\\_gui\\styles\\metal_dark\\rc\\transparent.pngING: Could not create pixmap from c:\\users\\v259148\n",
      "\n"
     ]
    }
   ],
   "source": [
    "ansys.get_capacitance_matrix()"
   ]
  },
  {
   "cell_type": "code",
   "execution_count": 39,
   "id": "7a535066",
   "metadata": {},
   "outputs": [],
   "source": [
    "from qiskit_metal.analyses.sweep_and_optimize.sweeping import Sweeping\n",
    "\n",
    "sweep =Sweeping(design)\n"
   ]
  },
  {
   "cell_type": "code",
   "execution_count": 47,
   "id": "c5b3e276",
   "metadata": {},
   "outputs": [],
   "source": [
    "setup_args=Dict(\n",
    "    freq_ghz=11.0,\n",
    "    min_passes=2,\n",
    "    max_passes= 15,\n",
    "    percent_error=0.2)\n",
    "\n",
    "all_sweep, retorn_code = sweep.sweep_one_option_get_capacitance_matrix(\n",
    "    qcomp_name=\"capacitor1\",\n",
    "    option_name=\"pos_y\",\n",
    "    option_sweep=['5um',\"15um\",'18um'],\n",
    "    qcomp_render=['CAP11'],\n",
    "    endcaps_render=[],\n",
    "    setup_args=setup_args\n",
    ")"
   ]
  },
  {
   "cell_type": "code",
   "execution_count": 48,
   "id": "4547b69b",
   "metadata": {},
   "outputs": [
    {
     "data": {
      "text/plain": [
       "{}"
      ]
     },
     "execution_count": 48,
     "metadata": {},
     "output_type": "execute_result"
    }
   ],
   "source": [
    "all_sweep"
   ]
  },
  {
   "cell_type": "code",
   "execution_count": null,
   "id": "27ea9fc4",
   "metadata": {},
   "outputs": [],
   "source": []
  }
 ],
 "metadata": {
  "kernelspec": {
   "display_name": "metal",
   "language": "python",
   "name": "python3"
  },
  "language_info": {
   "codemirror_mode": {
    "name": "ipython",
    "version": 3
   },
   "file_extension": ".py",
   "mimetype": "text/x-python",
   "name": "python",
   "nbconvert_exporter": "python",
   "pygments_lexer": "ipython3",
   "version": "3.11.10"
  }
 },
 "nbformat": 4,
 "nbformat_minor": 5
}
