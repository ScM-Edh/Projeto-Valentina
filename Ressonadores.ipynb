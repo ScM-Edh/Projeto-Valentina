{
 "cells": [
  {
   "cell_type": "code",
   "execution_count": 1,
   "metadata": {},
   "outputs": [],
   "source": [
    "%load_ext autoreload\n",
    "%autoreload 2"
   ]
  },
  {
   "cell_type": "code",
   "execution_count": 2,
   "metadata": {},
   "outputs": [],
   "source": [
    "import qiskit_metal as metal\n",
    "from qiskit_metal import Dict, designs, MetalGUI"
   ]
  },
  {
   "cell_type": "code",
   "execution_count": 3,
   "metadata": {},
   "outputs": [],
   "source": [
    "design = designs.DesignPlanar(overwrite_enabled=True)"
   ]
  },
  {
   "cell_type": "code",
   "execution_count": 4,
   "metadata": {},
   "outputs": [],
   "source": [
    "gui = MetalGUI(design)"
   ]
  },
  {
   "cell_type": "code",
   "execution_count": 5,
   "metadata": {},
   "outputs": [],
   "source": [
    "design.variables['cpw_width']='20um'\n",
    "design.variables['cpw_gap']='12um'"
   ]
  },
  {
   "cell_type": "code",
   "execution_count": 8,
   "metadata": {},
   "outputs": [],
   "source": [
    "from qiskit_metal.qlibrary.lumped.cap_n_interdigital import CapNInterdigital\n",
    "from qiskit_metal.qlibrary.tlines.meandered import RouteMeander\n",
    "from qiskit_metal.qlibrary.terminations.launchpad_wb import LaunchpadWirebond\n",
    "from qiskit_metal.qlibrary.tlines.straight_path import RouteStraight"
   ]
  },
  {
   "cell_type": "markdown",
   "metadata": {},
   "source": [
    "# Res 3GHz e cap 1fF"
   ]
  },
  {
   "cell_type": "code",
   "execution_count": 7,
   "metadata": {},
   "outputs": [
    {
     "data": {
      "text/plain": [
       "{'chip': 'main',\n",
       " 'layer': '1',\n",
       " 'pin_inputs': {'start_pin': {'component': '', 'pin': ''},\n",
       "  'end_pin': {'component': '', 'pin': ''}},\n",
       " 'fillet': '0',\n",
       " 'lead': {'start_straight': '0mm',\n",
       "  'end_straight': '0mm',\n",
       "  'start_jogged_extension': '',\n",
       "  'end_jogged_extension': ''},\n",
       " 'total_length': '7mm',\n",
       " 'trace_width': 'cpw_width',\n",
       " 'meander': {'spacing': '200um', 'asymmetry': '0um'},\n",
       " 'snap': 'true',\n",
       " 'prevent_short_edges': 'true',\n",
       " 'hfss_wire_bonds': False,\n",
       " 'q3d_wire_bonds': False}"
      ]
     },
     "execution_count": 7,
     "metadata": {},
     "output_type": "execute_result"
    }
   ],
   "source": [
    "RouteMeander.get_template_options(design)"
   ]
  },
  {
   "cell_type": "code",
   "execution_count": 8,
   "metadata": {},
   "outputs": [],
   "source": [
    "design.delete_all_components()"
   ]
  },
  {
   "cell_type": "code",
   "execution_count": 9,
   "metadata": {},
   "outputs": [],
   "source": [
    "cap_opt=Dict(\n",
    "    orientation='-90',\n",
    "    north_width='20um',\n",
    "    north_gap='12um',\n",
    "    south_width='20um',\n",
    "    south_gap='12um',\n",
    "    cap_width='5um',\n",
    "    cap_gap='10um',\n",
    "    cap_gap_ground='12um',\n",
    "    finger_length='5um',\n",
    "    finger_count='3',\n",
    "    cap_distance='1um'\n",
    ")\n",
    "\n",
    "cap1 = CapNInterdigital(design, 'CAP1', options=cap_opt)\n",
    "\n",
    "cap_opt.orientation='90'\n",
    "cap_opt.pos_x='5mm'\n",
    "cap2 = CapNInterdigital(design, 'CAP2', options=cap_opt)\n",
    "\n",
    "res = RouteMeander(design, 'RES', options=Dict(\n",
    "    pin_inputs=Dict(\n",
    "        start_pin=Dict(\n",
    "            component='CAP1',\n",
    "            pin='north_end'\n",
    "        ),\n",
    "        end_pin=Dict(\n",
    "            component='CAP2',\n",
    "            pin='north_end'\n",
    "        )\n",
    "    ),\n",
    "    lead=Dict(\n",
    "        start_straight='500um',\n",
    "        end_straight='500um'\n",
    "    ),\n",
    "    total_length='20mm',\n",
    "    fillet='130um',\n",
    "    meander=Dict(spacing='280um'),\n",
    "    hfss_wire_bonds=True\n",
    "))\n",
    "\n",
    "pad1 = LaunchpadWirebond(design, 'PAD1', options=Dict(\n",
    "    pos_x='-1.5mm',\n",
    "    orientation='0',\n",
    "    lead_length='25um',\n",
    "    pad_width='350um',\n",
    "    pad_height='350um',\n",
    "    pad_gap='150um',\n",
    "    taper_height='370um'\n",
    "))\n",
    "\n",
    "pad2 = LaunchpadWirebond(design, 'PAD2', options=Dict(\n",
    "    pos_x='6.5mm',\n",
    "    orientation='180',\n",
    "    lead_length='25um',\n",
    "    pad_width='350um',\n",
    "    pad_height='350um',\n",
    "    pad_gap='150um',\n",
    "    taper_height='370um'\n",
    "))\n",
    "\n",
    "line1 = RouteStraight(design, 'LINE1', options=Dict(\n",
    "    pin_inputs=Dict(\n",
    "        start_pin=Dict(\n",
    "            component='CAP1',\n",
    "            pin='south_end'\n",
    "        ),\n",
    "        end_pin=Dict(\n",
    "            component='PAD1',\n",
    "            pin='tie'\n",
    "        )\n",
    "    )\n",
    "))\n",
    "\n",
    "line2 = RouteStraight(design, 'LINE2', options=Dict(\n",
    "    pin_inputs=Dict(\n",
    "        start_pin=Dict(\n",
    "            component='CAP2',\n",
    "            pin='south_end'\n",
    "        ),\n",
    "        end_pin=Dict(\n",
    "            component='PAD2',\n",
    "            pin='tie'\n",
    "        )\n",
    "    )\n",
    "))\n",
    "\n",
    "gui.rebuild()\n",
    "gui.autoscale()"
   ]
  },
  {
   "cell_type": "code",
   "execution_count": 31,
   "metadata": {},
   "outputs": [
    {
     "name": "stderr",
     "output_type": "stream",
     "text": [
      "02:31AM 45s WARNING [_import_junctions_to_one_cell]: Not able to find file:\"../resources/Fake_Junctions.GDS\".  Not used to replace junction. Checked directory:\"d:\\Users\\e196203\\Desktop\\resources\".\n"
     ]
    },
    {
     "data": {
      "text/plain": [
       "1"
      ]
     },
     "execution_count": 31,
     "metadata": {},
     "output_type": "execute_result"
    }
   ],
   "source": [
    "design.chips.main.size['size_x'] = '10mm'\n",
    "design.chips.main.size['size_y'] = '5mm'\n",
    "design.chips.main.size['center_x'] = '2.5mm'\n",
    "design.chips.main.size['center_y'] = '0mm'\n",
    "design.chips.main\n",
    "\n",
    "design.renderers.gds.export_to_gds('resonator 3GHz cap 1fF.gds')"
   ]
  },
  {
   "cell_type": "code",
   "execution_count": 10,
   "metadata": {},
   "outputs": [],
   "source": [
    "from qiskit_metal import renderers\n",
    "\n",
    "ansys = design.renderers.hfss"
   ]
  },
  {
   "cell_type": "code",
   "execution_count": 17,
   "metadata": {},
   "outputs": [
    {
     "name": "stderr",
     "output_type": "stream",
     "text": [
      "INFO 02:48PM [connect_project]: Connecting to Ansys Desktop API...\n",
      "INFO 02:48PM [load_ansys_project]: \tOpened Ansys App\n",
      "INFO 02:48PM [load_ansys_project]: \tOpened Ansys Desktop v2025.1.0\n",
      "INFO 02:48PM [load_ansys_project]: \tOpened Ansys Project\n",
      "\tFolder:    D:/Users/e196203/Desktop/Va-Qiskit/\n",
      "\tProject:   Ressonadores Val\n",
      "INFO 02:48PM [connect_design]: \tOpened active design\n",
      "\tDesign:    res 3GHz cap 1fF [Solution type: Eigenmode]\n",
      "INFO 02:48PM [get_setup]: \tOpened setup `Setup`  (<class 'pyEPR.ansys.HfssEMSetup'>)\n",
      "INFO 02:48PM [connect]: \tConnected to project \"Ressonadores Val\" and design \"res 3GHz cap 1fF\" 😀 \n",
      "\n"
     ]
    }
   ],
   "source": [
    "ansys.connect_ansys()"
   ]
  },
  {
   "cell_type": "code",
   "execution_count": 13,
   "metadata": {},
   "outputs": [
    {
     "name": "stderr",
     "output_type": "stream",
     "text": [
      "11:47AM 41s WARNING [add_eigenmode_design]: This method is deprecated. Change your scripts to use new_ansys_design()\n",
      "11:47AM 42s ERROR [new_ansys_design]: Please install a more recent version of pyEPR (>=0.8.4.4)\n",
      "INFO 11:47AM [__del__]: Disconnected from Ansys HFSS\n"
     ]
    },
    {
     "ename": "AttributeError",
     "evalue": "'NoneType' object has no attribute 'GetName'",
     "output_type": "error",
     "traceback": [
      "\u001b[1;31m---------------------------------------------------------------------------\u001b[0m",
      "\u001b[1;31mAttributeError\u001b[0m                            Traceback (most recent call last)",
      "Cell \u001b[1;32mIn[13], line 1\u001b[0m\n\u001b[1;32m----> 1\u001b[0m \u001b[43mansys\u001b[49m\u001b[38;5;241;43m.\u001b[39;49m\u001b[43madd_eigenmode_design\u001b[49m\u001b[43m(\u001b[49m\u001b[38;5;124;43m'\u001b[39;49m\u001b[38;5;124;43mres 3GHz cap 1fF\u001b[39;49m\u001b[38;5;124;43m'\u001b[39;49m\u001b[43m)\u001b[49m\n",
      "File \u001b[1;32md:\\Users\\e196203\\.conda\\envs\\qiskit-metal\\Lib\\site-packages\\qiskit_metal\\renderers\\renderer_ansys\\hfss_renderer.py:498\u001b[0m, in \u001b[0;36mQHFSSRenderer.add_eigenmode_design\u001b[1;34m(self, name, connect)\u001b[0m\n\u001b[0;32m    492\u001b[0m \u001b[38;5;250m\u001b[39m\u001b[38;5;124;03m\"\"\"\u001b[39;00m\n\u001b[0;32m    493\u001b[0m \u001b[38;5;124;03m(deprecated) use new_ansys_design()\u001b[39;00m\n\u001b[0;32m    494\u001b[0m \u001b[38;5;124;03m\"\"\"\u001b[39;00m\n\u001b[0;32m    495\u001b[0m \u001b[38;5;28mself\u001b[39m\u001b[38;5;241m.\u001b[39mlogger\u001b[38;5;241m.\u001b[39mwarning(\n\u001b[0;32m    496\u001b[0m     \u001b[38;5;124m'\u001b[39m\u001b[38;5;124mThis method is deprecated. Change your scripts to use new_ansys_design()\u001b[39m\u001b[38;5;124m'\u001b[39m\n\u001b[0;32m    497\u001b[0m )\n\u001b[1;32m--> 498\u001b[0m \u001b[38;5;28;43mself\u001b[39;49m\u001b[38;5;241;43m.\u001b[39;49m\u001b[43mnew_ansys_design\u001b[49m\u001b[43m(\u001b[49m\u001b[43mname\u001b[49m\u001b[43m,\u001b[49m\u001b[43m \u001b[49m\u001b[38;5;124;43m'\u001b[39;49m\u001b[38;5;124;43meigenmode\u001b[39;49m\u001b[38;5;124;43m'\u001b[39;49m\u001b[43m,\u001b[49m\u001b[43m \u001b[49m\u001b[43mconnect\u001b[49m\u001b[43m)\u001b[49m\n",
      "File \u001b[1;32md:\\Users\\e196203\\.conda\\envs\\qiskit-metal\\Lib\\site-packages\\qiskit_metal\\renderers\\renderer_ansys\\ansys_renderer.py:778\u001b[0m, in \u001b[0;36mQAnsysRenderer.new_ansys_design\u001b[1;34m(self, design_name, solution_type, connect)\u001b[0m\n\u001b[0;32m    776\u001b[0m     adesign \u001b[38;5;241m=\u001b[39m \u001b[38;5;28mself\u001b[39m\u001b[38;5;241m.\u001b[39mpinfo\u001b[38;5;241m.\u001b[39mproject\u001b[38;5;241m.\u001b[39mnew_q3d_design(design_name)\n\u001b[0;32m    777\u001b[0m \u001b[38;5;28;01melif\u001b[39;00m solution_type \u001b[38;5;241m==\u001b[39m \u001b[38;5;124m\"\u001b[39m\u001b[38;5;124meigenmode\u001b[39m\u001b[38;5;124m\"\u001b[39m:\n\u001b[1;32m--> 778\u001b[0m     adesign \u001b[38;5;241m=\u001b[39m \u001b[38;5;28;43mself\u001b[39;49m\u001b[38;5;241;43m.\u001b[39;49m\u001b[43mpinfo\u001b[49m\u001b[38;5;241;43m.\u001b[39;49m\u001b[43mproject\u001b[49m\u001b[38;5;241;43m.\u001b[39;49m\u001b[43mnew_em_design\u001b[49m\u001b[43m(\u001b[49m\u001b[43mdesign_name\u001b[49m\u001b[43m)\u001b[49m\n\u001b[0;32m    779\u001b[0m \u001b[38;5;28;01melif\u001b[39;00m solution_type \u001b[38;5;241m==\u001b[39m \u001b[38;5;124m\"\u001b[39m\u001b[38;5;124mdrivenmodal\u001b[39m\u001b[38;5;124m\"\u001b[39m:\n\u001b[0;32m    780\u001b[0m     adesign \u001b[38;5;241m=\u001b[39m \u001b[38;5;28mself\u001b[39m\u001b[38;5;241m.\u001b[39mpinfo\u001b[38;5;241m.\u001b[39mproject\u001b[38;5;241m.\u001b[39mnew_dm_design(design_name)\n",
      "File \u001b[1;32md:\\Users\\e196203\\.conda\\envs\\qiskit-metal\\Lib\\site-packages\\pyEPR\\ansys.py:605\u001b[0m, in \u001b[0;36mHfssProject.new_em_design\u001b[1;34m(self, name)\u001b[0m\n\u001b[0;32m    599\u001b[0m \u001b[38;5;28;01mdef\u001b[39;00m \u001b[38;5;21mnew_em_design\u001b[39m(\u001b[38;5;28mself\u001b[39m, name: \u001b[38;5;28mstr\u001b[39m):\n\u001b[0;32m    600\u001b[0m \u001b[38;5;250m    \u001b[39m\u001b[38;5;124;03m\"\"\"Create a new eigenmode design\u001b[39;00m\n\u001b[0;32m    601\u001b[0m \n\u001b[0;32m    602\u001b[0m \u001b[38;5;124;03m    Args:\u001b[39;00m\n\u001b[0;32m    603\u001b[0m \u001b[38;5;124;03m        name (str): Name of eigenmode design\u001b[39;00m\n\u001b[0;32m    604\u001b[0m \u001b[38;5;124;03m    \"\"\"\u001b[39;00m\n\u001b[1;32m--> 605\u001b[0m     \u001b[38;5;28;01mreturn\u001b[39;00m \u001b[38;5;28;43mself\u001b[39;49m\u001b[38;5;241;43m.\u001b[39;49m\u001b[43mnew_design\u001b[49m\u001b[43m(\u001b[49m\u001b[43mname\u001b[49m\u001b[43m,\u001b[49m\u001b[43m \u001b[49m\u001b[38;5;124;43m\"\u001b[39;49m\u001b[38;5;124;43mEigenmode\u001b[39;49m\u001b[38;5;124;43m\"\u001b[39;49m\u001b[43m)\u001b[49m\n",
      "File \u001b[1;32md:\\Users\\e196203\\.conda\\envs\\qiskit-metal\\Lib\\site-packages\\pyEPR\\ansys.py:577\u001b[0m, in \u001b[0;36mHfssProject.new_design\u001b[1;34m(self, design_name, solution_type, design_type)\u001b[0m\n\u001b[0;32m    574\u001b[0m \u001b[38;5;28;01mdef\u001b[39;00m \u001b[38;5;21mnew_design\u001b[39m(\u001b[38;5;28mself\u001b[39m, design_name, solution_type, design_type\u001b[38;5;241m=\u001b[39m\u001b[38;5;124m\"\u001b[39m\u001b[38;5;124mHFSS\u001b[39m\u001b[38;5;124m\"\u001b[39m):\n\u001b[0;32m    575\u001b[0m     design_name_int \u001b[38;5;241m=\u001b[39m increment_name(\n\u001b[0;32m    576\u001b[0m         design_name, [d\u001b[38;5;241m.\u001b[39mGetName() \u001b[38;5;28;01mfor\u001b[39;00m d \u001b[38;5;129;01min\u001b[39;00m \u001b[38;5;28mself\u001b[39m\u001b[38;5;241m.\u001b[39m_project\u001b[38;5;241m.\u001b[39mGetDesigns()])\n\u001b[1;32m--> 577\u001b[0m     \u001b[38;5;28;01mreturn\u001b[39;00m \u001b[43mHfssDesign\u001b[49m\u001b[43m(\u001b[49m\n\u001b[0;32m    578\u001b[0m \u001b[43m        \u001b[49m\u001b[38;5;28;43mself\u001b[39;49m\u001b[43m,\u001b[49m\n\u001b[0;32m    579\u001b[0m \u001b[43m        \u001b[49m\u001b[38;5;28;43mself\u001b[39;49m\u001b[38;5;241;43m.\u001b[39;49m\u001b[43m_project\u001b[49m\u001b[38;5;241;43m.\u001b[39;49m\u001b[43mInsertDesign\u001b[49m\u001b[43m(\u001b[49m\u001b[43mdesign_type\u001b[49m\u001b[43m,\u001b[49m\u001b[43m \u001b[49m\u001b[43mdesign_name_int\u001b[49m\u001b[43m,\u001b[49m\n\u001b[0;32m    580\u001b[0m \u001b[43m                                   \u001b[49m\u001b[43msolution_type\u001b[49m\u001b[43m,\u001b[49m\u001b[43m \u001b[49m\u001b[38;5;124;43m\"\u001b[39;49m\u001b[38;5;124;43m\"\u001b[39;49m\u001b[43m)\u001b[49m\u001b[43m)\u001b[49m\n",
      "File \u001b[1;32md:\\Users\\e196203\\.conda\\envs\\qiskit-metal\\Lib\\site-packages\\pyEPR\\ansys.py:624\u001b[0m, in \u001b[0;36mHfssDesign.__init__\u001b[1;34m(self, project, design)\u001b[0m\n\u001b[0;32m    622\u001b[0m \u001b[38;5;28mself\u001b[39m\u001b[38;5;241m.\u001b[39mparent \u001b[38;5;241m=\u001b[39m project\n\u001b[0;32m    623\u001b[0m \u001b[38;5;28mself\u001b[39m\u001b[38;5;241m.\u001b[39m_design \u001b[38;5;241m=\u001b[39m design\n\u001b[1;32m--> 624\u001b[0m \u001b[38;5;28mself\u001b[39m\u001b[38;5;241m.\u001b[39mname \u001b[38;5;241m=\u001b[39m \u001b[43mdesign\u001b[49m\u001b[38;5;241;43m.\u001b[39;49m\u001b[43mGetName\u001b[49m()\n\u001b[0;32m    625\u001b[0m \u001b[38;5;28mself\u001b[39m\u001b[38;5;241m.\u001b[39m_ansys_version \u001b[38;5;241m=\u001b[39m \u001b[38;5;28mself\u001b[39m\u001b[38;5;241m.\u001b[39mparent\u001b[38;5;241m.\u001b[39m_ansys_version\n\u001b[0;32m    627\u001b[0m \u001b[38;5;28;01mtry\u001b[39;00m:\n\u001b[0;32m    628\u001b[0m     \u001b[38;5;66;03m# This function does not exist if the design is not HFSS\u001b[39;00m\n",
      "\u001b[1;31mAttributeError\u001b[0m: 'NoneType' object has no attribute 'GetName'"
     ]
    }
   ],
   "source": [
    "ansys.add_eigenmode_design('res 3GHz cap 1fF')"
   ]
  },
  {
   "cell_type": "code",
   "execution_count": 18,
   "metadata": {},
   "outputs": [],
   "source": [
    "ansys.clean_active_design()\n",
    "ansys.render_design(['RES', 'CAP1', 'CAP2'])"
   ]
  },
  {
   "cell_type": "code",
   "execution_count": 19,
   "metadata": {},
   "outputs": [
    {
     "data": {
      "text/plain": [
       "<pyEPR.ansys.HfssEMSetup at 0x21ec79eca50>"
      ]
     },
     "execution_count": 19,
     "metadata": {},
     "output_type": "execute_result"
    }
   ],
   "source": [
    "ansys.add_eigenmode_setup(\n",
    "    name='resonance',\n",
    "    n_modes=2,\n",
    "    max_passes=15,\n",
    "    min_converged=2\n",
    ")"
   ]
  },
  {
   "cell_type": "code",
   "execution_count": 19,
   "metadata": {},
   "outputs": [
    {
     "name": "stderr",
     "output_type": "stream",
     "text": [
      "INFO 02:50PM [get_setup]: \tOpened setup `resonance`  (<class 'pyEPR.ansys.HfssEMSetup'>)\n",
      "INFO 02:50PM [analyze]: Analyzing setup resonance\n"
     ]
    }
   ],
   "source": [
    "ansys.analyze_setup('resonance')"
   ]
  },
  {
   "cell_type": "code",
   "execution_count": 20,
   "metadata": {},
   "outputs": [
    {
     "data": {
      "text/plain": [
       "([2.96250499693, 5.93602385308], None)"
      ]
     },
     "execution_count": 20,
     "metadata": {},
     "output_type": "execute_result"
    }
   ],
   "source": [
    "ansys.pinfo.setup.get_solutions().eigenmodes()"
   ]
  },
  {
   "cell_type": "code",
   "execution_count": 21,
   "metadata": {},
   "outputs": [
    {
     "name": "stderr",
     "output_type": "stream",
     "text": [
      "03:14PM 33s WARNING [activate_drivenmodal_design]: This method is deprecated. Change your scripts to use activate_ansys_design()\n",
      "INFO 03:14PM [connect_design]: \tOpened active design\n",
      "\tDesign:    res 3GHz cap 1fF S21 [Solution type: HFSS Hybrid Modal Network]\n",
      "03:14PM 33s WARNING [activate_ansys_design]: The design_name=res 3GHz cap 1fF S21 already exists, but it has solution_type==hfss hybrid modal network, which is different from the requested==drivenmodal. If you want a design with solution type==drivenmodal, please change the name requested for your design to one that does not exist. Alternatively, manually modify the solution_type for design res 3GHz cap 1fF S21 from the Ansys GUI.\n"
     ]
    }
   ],
   "source": [
    "ansys.activate_drivenmodal_design('res 3GHz cap 1fF S21')"
   ]
  },
  {
   "cell_type": "code",
   "execution_count": 23,
   "metadata": {},
   "outputs": [
    {
     "data": {
      "text/plain": [
       "<pyEPR.ansys.HfssDMSetup at 0x21ec7f7f8d0>"
      ]
     },
     "execution_count": 23,
     "metadata": {},
     "output_type": "execute_result"
    }
   ],
   "source": [
    "ansys.add_drivenmodal_setup(\n",
    "    name='setup',\n",
    "    freq_ghz=2.9,\n",
    "    min_passes=12,\n",
    "    max_passes=17,\n",
    "    min_converged=2,\n",
    "    max_delta_s=0.002,\n",
    "    basis_order=-1\n",
    ")"
   ]
  },
  {
   "cell_type": "code",
   "execution_count": 22,
   "metadata": {},
   "outputs": [],
   "source": [
    "ansys.clean_active_design()\n",
    "ansys.render_design(selection=['RES', 'CAP1', 'CAP2'], open_pins=[], port_list=[('CAP1', 'south_end',50), ('CAP2', 'south_end',50)])"
   ]
  },
  {
   "cell_type": "code",
   "execution_count": 26,
   "metadata": {},
   "outputs": [],
   "source": [
    "ansys.disconnect_ansys()"
   ]
  },
  {
   "cell_type": "markdown",
   "metadata": {},
   "source": [
    "# Res 7GHz cap 1fF"
   ]
  },
  {
   "cell_type": "code",
   "execution_count": 6,
   "metadata": {},
   "outputs": [],
   "source": [
    "design.delete_all_components()"
   ]
  },
  {
   "cell_type": "code",
   "execution_count": 9,
   "metadata": {},
   "outputs": [],
   "source": [
    "cap_opt=Dict(\n",
    "    orientation='-90',\n",
    "    north_width='20um',\n",
    "    north_gap='12um',\n",
    "    south_width='20um',\n",
    "    south_gap='12um',\n",
    "    cap_width='5um',\n",
    "    cap_gap='10um',\n",
    "    cap_gap_ground='12um',\n",
    "    finger_length='5um',\n",
    "    finger_count='3',\n",
    "    cap_distance='1um'\n",
    ")\n",
    "\n",
    "cap1 = CapNInterdigital(design, 'CAP1', options=cap_opt)\n",
    "\n",
    "cap_opt.orientation='90'\n",
    "cap_opt.pos_x='5mm'\n",
    "cap2 = CapNInterdigital(design, 'CAP2', options=cap_opt)\n",
    "\n",
    "res = RouteMeander(design, 'RES', options=Dict(\n",
    "    pin_inputs=Dict(\n",
    "        start_pin=Dict(\n",
    "            component='CAP1',\n",
    "            pin='north_end'\n",
    "        ),\n",
    "        end_pin=Dict(\n",
    "            component='CAP2',\n",
    "            pin='north_end'\n",
    "        )\n",
    "    ),\n",
    "    lead=Dict(\n",
    "        start_straight='1500um',\n",
    "        end_straight='1500um'\n",
    "    ),\n",
    "    total_length='8.3mm',\n",
    "    fillet='130um',\n",
    "    meander=Dict(spacing='280um'),\n",
    "    hfss_wire_bonds=True\n",
    "))\n",
    "\n",
    "pad1 = LaunchpadWirebond(design, 'PAD1', options=Dict(\n",
    "    pos_x='-1.5mm',\n",
    "    orientation='0',\n",
    "    lead_length='25um',\n",
    "    pad_width='350um',\n",
    "    pad_height='350um',\n",
    "    pad_gap='150um',\n",
    "    taper_height='370um'\n",
    "))\n",
    "\n",
    "pad2 = LaunchpadWirebond(design, 'PAD2', options=Dict(\n",
    "    pos_x='6.5mm',\n",
    "    orientation='180',\n",
    "    lead_length='25um',\n",
    "    pad_width='350um',\n",
    "    pad_height='350um',\n",
    "    pad_gap='150um',\n",
    "    taper_height='370um'\n",
    "))\n",
    "\n",
    "line1 = RouteStraight(design, 'LINE1', options=Dict(\n",
    "    pin_inputs=Dict(\n",
    "        start_pin=Dict(\n",
    "            component='CAP1',\n",
    "            pin='south_end'\n",
    "        ),\n",
    "        end_pin=Dict(\n",
    "            component='PAD1',\n",
    "            pin='tie'\n",
    "        )\n",
    "    )\n",
    "))\n",
    "\n",
    "line2 = RouteStraight(design, 'LINE2', options=Dict(\n",
    "    pin_inputs=Dict(\n",
    "        start_pin=Dict(\n",
    "            component='CAP2',\n",
    "            pin='south_end'\n",
    "        ),\n",
    "        end_pin=Dict(\n",
    "            component='PAD2',\n",
    "            pin='tie'\n",
    "        )\n",
    "    )\n",
    "))\n",
    "\n",
    "gui.rebuild()\n",
    "gui.autoscale()"
   ]
  },
  {
   "cell_type": "code",
   "execution_count": 34,
   "metadata": {},
   "outputs": [
    {
     "name": "stderr",
     "output_type": "stream",
     "text": [
      "02:33AM 32s WARNING [_import_junctions_to_one_cell]: Not able to find file:\"../resources/Fake_Junctions.GDS\".  Not used to replace junction. Checked directory:\"d:\\Users\\e196203\\Desktop\\resources\".\n"
     ]
    },
    {
     "data": {
      "text/plain": [
       "1"
      ]
     },
     "execution_count": 34,
     "metadata": {},
     "output_type": "execute_result"
    }
   ],
   "source": [
    "design.chips.main.size['size_x'] = '10mm'\n",
    "design.chips.main.size['size_y'] = '5mm'\n",
    "design.chips.main.size['center_x'] = '2.5mm'\n",
    "design.chips.main.size['center_y'] = '0mm'\n",
    "design.chips.main\n",
    "\n",
    "design.renderers.gds.export_to_gds('resonator 7GHz cap 1fF.gds')"
   ]
  },
  {
   "cell_type": "code",
   "execution_count": 10,
   "metadata": {},
   "outputs": [],
   "source": [
    "from qiskit_metal import renderers\n",
    "\n",
    "ansys = design.renderers.hfss"
   ]
  },
  {
   "cell_type": "code",
   "execution_count": 11,
   "metadata": {},
   "outputs": [
    {
     "name": "stderr",
     "output_type": "stream",
     "text": [
      "INFO 05:24PM [connect_project]: Connecting to Ansys Desktop API...\n",
      "INFO 05:24PM [load_ansys_project]: \tOpened Ansys App\n",
      "INFO 05:24PM [load_ansys_project]: \tOpened Ansys Desktop v2025.1.0\n",
      "INFO 05:24PM [load_ansys_project]: \tOpened Ansys Project\n",
      "\tFolder:    D:/Users/e196203/Desktop/Va-Qiskit/\n",
      "\tProject:   Ressonadores Val\n",
      "INFO 05:24PM [connect_design]: \tOpened active design\n",
      "\tDesign:    res 7GHz cap1fF [Solution type: Eigenmode]\n",
      "INFO 05:24PM [get_setup]: \tOpened setup `Setup`  (<class 'pyEPR.ansys.HfssEMSetup'>)\n",
      "INFO 05:24PM [connect]: \tConnected to project \"Ressonadores Val\" and design \"res 7GHz cap1fF\" 😀 \n",
      "\n"
     ]
    }
   ],
   "source": [
    "ansys.connect_ansys()"
   ]
  },
  {
   "cell_type": "code",
   "execution_count": 12,
   "metadata": {},
   "outputs": [
    {
     "name": "stderr",
     "output_type": "stream",
     "text": [
      "05:25PM 00s WARNING [activate_eigenmode_design]: This method is deprecated. Change your scripts to use activate_ansys_design()\n",
      "INFO 05:25PM [connect_design]: \tOpened active design\n",
      "\tDesign:    res 7GHz cap1fF [Solution type: Eigenmode]\n"
     ]
    }
   ],
   "source": [
    "ansys.activate_eigenmode_design('res 7GHz cap1fF')"
   ]
  },
  {
   "cell_type": "code",
   "execution_count": 13,
   "metadata": {},
   "outputs": [],
   "source": [
    "ansys.clean_active_design()\n",
    "ansys.render_design(['RES', 'CAP1','CAP2'])"
   ]
  },
  {
   "cell_type": "code",
   "execution_count": 14,
   "metadata": {},
   "outputs": [
    {
     "data": {
      "text/plain": [
       "<pyEPR.ansys.HfssEMSetup at 0x1f327afc8d0>"
      ]
     },
     "execution_count": 14,
     "metadata": {},
     "output_type": "execute_result"
    }
   ],
   "source": [
    "ansys.add_eigenmode_setup(\n",
    "    name='resonance',\n",
    "    n_modes=2,\n",
    "    max_passes=15,\n",
    "    min_converged=2\n",
    ")"
   ]
  },
  {
   "cell_type": "code",
   "execution_count": 15,
   "metadata": {},
   "outputs": [
    {
     "name": "stderr",
     "output_type": "stream",
     "text": [
      "INFO 05:25PM [get_setup]: \tOpened setup `resonance`  (<class 'pyEPR.ansys.HfssEMSetup'>)\n",
      "INFO 05:25PM [analyze]: Analyzing setup resonance\n"
     ]
    }
   ],
   "source": [
    "ansys.analyze_setup('resonance')"
   ]
  },
  {
   "cell_type": "code",
   "execution_count": 16,
   "metadata": {},
   "outputs": [
    {
     "data": {
      "text/plain": [
       "([7.13176666402, 14.2269598611], None)"
      ]
     },
     "execution_count": 16,
     "metadata": {},
     "output_type": "execute_result"
    }
   ],
   "source": [
    "ansys.pinfo.setup.get_solutions().eigenmodes()"
   ]
  },
  {
   "cell_type": "code",
   "execution_count": null,
   "metadata": {},
   "outputs": [
    {
     "name": "stderr",
     "output_type": "stream",
     "text": [
      "08:08PM 29s WARNING [add_drivenmodal_design]: This method is deprecated. Change your scripts to use new_ansys_design()\n",
      "INFO 08:08PM [connect_design]: \tOpened active design\n",
      "\tDesign:    res 3GHz cap 1fF S211 [Solution type: HFSS Hybrid Modal Network]\n",
      "WARNING 08:08PM [connect_setup]: \tNo design setup detected.\n",
      "ERROR 08:08PM [connect_setup]: Original error 😭: 'NoneType' object has no attribute 'name'\n",
      "\n"
     ]
    },
    {
     "ename": "Exception",
     "evalue": " Did you provide the correct setup name?                            Failed to pull up setup. 😭",
     "output_type": "error",
     "traceback": [
      "\u001b[1;31m---------------------------------------------------------------------------\u001b[0m",
      "\u001b[1;31mAttributeError\u001b[0m                            Traceback (most recent call last)",
      "File \u001b[1;32md:\\Users\\e196203\\.conda\\envs\\qiskit-metal\\Lib\\site-packages\\pyEPR\\project_info.py:335\u001b[0m, in \u001b[0;36mProjectInfo.connect_setup\u001b[1;34m(self)\u001b[0m\n\u001b[0;32m    334\u001b[0m         setup \u001b[38;5;241m=\u001b[39m \u001b[38;5;28mself\u001b[39m\u001b[38;5;241m.\u001b[39mdesign\u001b[38;5;241m.\u001b[39mcreate_q3d_setup()\n\u001b[1;32m--> 335\u001b[0m     \u001b[38;5;28mself\u001b[39m\u001b[38;5;241m.\u001b[39msetup_name \u001b[38;5;241m=\u001b[39m \u001b[43msetup\u001b[49m\u001b[38;5;241;43m.\u001b[39;49m\u001b[43mname\u001b[49m\n\u001b[0;32m    336\u001b[0m \u001b[38;5;28;01melse\u001b[39;00m:\n",
      "\u001b[1;31mAttributeError\u001b[0m: 'NoneType' object has no attribute 'name'",
      "\nDuring handling of the above exception, another exception occurred:\n",
      "\u001b[1;31mException\u001b[0m                                 Traceback (most recent call last)",
      "Cell \u001b[1;32mIn[17], line 1\u001b[0m\n\u001b[1;32m----> 1\u001b[0m \u001b[43mansys\u001b[49m\u001b[38;5;241;43m.\u001b[39;49m\u001b[43madd_drivenmodal_design\u001b[49m\u001b[43m(\u001b[49m\u001b[38;5;124;43m'\u001b[39;49m\u001b[38;5;124;43mres 3GHz cap 1fF S21\u001b[39;49m\u001b[38;5;124;43m'\u001b[39;49m\u001b[43m)\u001b[49m\n",
      "File \u001b[1;32md:\\Users\\e196203\\.conda\\envs\\qiskit-metal\\Lib\\site-packages\\qiskit_metal\\renderers\\renderer_ansys\\hfss_renderer.py:416\u001b[0m, in \u001b[0;36mQHFSSRenderer.add_drivenmodal_design\u001b[1;34m(self, name, connect)\u001b[0m\n\u001b[0;32m    410\u001b[0m \u001b[38;5;250m\u001b[39m\u001b[38;5;124;03m\"\"\"\u001b[39;00m\n\u001b[0;32m    411\u001b[0m \u001b[38;5;124;03m(deprecated) use new_ansys_design()\u001b[39;00m\n\u001b[0;32m    412\u001b[0m \u001b[38;5;124;03m\"\"\"\u001b[39;00m\n\u001b[0;32m    413\u001b[0m \u001b[38;5;28mself\u001b[39m\u001b[38;5;241m.\u001b[39mlogger\u001b[38;5;241m.\u001b[39mwarning(\n\u001b[0;32m    414\u001b[0m     \u001b[38;5;124m'\u001b[39m\u001b[38;5;124mThis method is deprecated. Change your scripts to use new_ansys_design()\u001b[39m\u001b[38;5;124m'\u001b[39m\n\u001b[0;32m    415\u001b[0m )\n\u001b[1;32m--> 416\u001b[0m \u001b[38;5;28;43mself\u001b[39;49m\u001b[38;5;241;43m.\u001b[39;49m\u001b[43mnew_ansys_design\u001b[49m\u001b[43m(\u001b[49m\u001b[43mname\u001b[49m\u001b[43m,\u001b[49m\u001b[43m \u001b[49m\u001b[38;5;124;43m'\u001b[39;49m\u001b[38;5;124;43mdrivenmodal\u001b[39;49m\u001b[38;5;124;43m'\u001b[39;49m\u001b[43m,\u001b[49m\u001b[43m \u001b[49m\u001b[43mconnect\u001b[49m\u001b[43m)\u001b[49m\n",
      "File \u001b[1;32md:\\Users\\e196203\\.conda\\envs\\qiskit-metal\\Lib\\site-packages\\qiskit_metal\\renderers\\renderer_ansys\\ansys_renderer.py:794\u001b[0m, in \u001b[0;36mQAnsysRenderer.new_ansys_design\u001b[1;34m(self, design_name, solution_type, connect)\u001b[0m\n\u001b[0;32m    792\u001b[0m         \u001b[38;5;28;01mraise\u001b[39;00m\n\u001b[0;32m    793\u001b[0m     \u001b[38;5;28;01mif\u001b[39;00m connect:\n\u001b[1;32m--> 794\u001b[0m         \u001b[38;5;28;43mself\u001b[39;49m\u001b[38;5;241;43m.\u001b[39;49m\u001b[43mconnect_ansys_design\u001b[49m\u001b[43m(\u001b[49m\u001b[43madesign\u001b[49m\u001b[38;5;241;43m.\u001b[39;49m\u001b[43mname\u001b[49m\u001b[43m)\u001b[49m\n\u001b[0;32m    795\u001b[0m     \u001b[38;5;28;01mreturn\u001b[39;00m adesign\n\u001b[0;32m    796\u001b[0m \u001b[38;5;28;01melse\u001b[39;00m:\n",
      "File \u001b[1;32md:\\Users\\e196203\\.conda\\envs\\qiskit-metal\\Lib\\site-packages\\qiskit_metal\\renderers\\renderer_ansys\\ansys_renderer.py:462\u001b[0m, in \u001b[0;36mQAnsysRenderer.connect_ansys_design\u001b[1;34m(self, design_name)\u001b[0m\n\u001b[0;32m    460\u001b[0m \u001b[38;5;28;01mtry\u001b[39;00m:\n\u001b[0;32m    461\u001b[0m     \u001b[38;5;28mself\u001b[39m\u001b[38;5;241m.\u001b[39mpinfo\u001b[38;5;241m.\u001b[39mconnect_design(design_name)\n\u001b[1;32m--> 462\u001b[0m     \u001b[38;5;28;43mself\u001b[39;49m\u001b[38;5;241;43m.\u001b[39;49m\u001b[43mpinfo\u001b[49m\u001b[38;5;241;43m.\u001b[39;49m\u001b[43mconnect_setup\u001b[49m\u001b[43m(\u001b[49m\u001b[43m)\u001b[49m\n\u001b[0;32m    463\u001b[0m \u001b[38;5;28;01mexcept\u001b[39;00m \u001b[38;5;167;01mAttributeError\u001b[39;00m:\n\u001b[0;32m    464\u001b[0m     \u001b[38;5;28mself\u001b[39m\u001b[38;5;241m.\u001b[39mlogger\u001b[38;5;241m.\u001b[39merror(\n\u001b[0;32m    465\u001b[0m         \u001b[38;5;124m\"\u001b[39m\u001b[38;5;124mPlease install a more recent version of pyEPR (>=0.8.4.3)\u001b[39m\u001b[38;5;124m\"\u001b[39m\n\u001b[0;32m    466\u001b[0m     )\n",
      "File \u001b[1;32md:\\Users\\e196203\\.conda\\envs\\qiskit-metal\\Lib\\site-packages\\pyEPR\\project_info.py:346\u001b[0m, in \u001b[0;36mProjectInfo.connect_setup\u001b[1;34m(self)\u001b[0m\n\u001b[0;32m    344\u001b[0m         _traceback \u001b[38;5;241m=\u001b[39m sys\u001b[38;5;241m.\u001b[39mexc_info()[\u001b[38;5;241m2\u001b[39m]\n\u001b[0;32m    345\u001b[0m         logger\u001b[38;5;241m.\u001b[39merror(\u001b[38;5;124mf\u001b[39m\u001b[38;5;124m\"\u001b[39m\u001b[38;5;124mOriginal error \u001b[39m\u001b[38;5;130;01m\\N{loudly crying face}\u001b[39;00m\u001b[38;5;124m: \u001b[39m\u001b[38;5;132;01m{\u001b[39;00me\u001b[38;5;132;01m}\u001b[39;00m\u001b[38;5;130;01m\\n\u001b[39;00m\u001b[38;5;124m\"\u001b[39m)\n\u001b[1;32m--> 346\u001b[0m         \u001b[38;5;28;01mraise\u001b[39;00m \u001b[38;5;167;01mException\u001b[39;00m(\u001b[38;5;124m'\u001b[39m\u001b[38;5;124m Did you provide the correct setup name?\u001b[39m\u001b[38;5;130;01m\\\u001b[39;00m\n\u001b[0;32m    347\u001b[0m \u001b[38;5;124m                    Failed to pull up setup. \u001b[39m\u001b[38;5;130;01m\\N{loudly crying face}\u001b[39;00m\u001b[38;5;124m'\u001b[39m\n\u001b[0;32m    348\u001b[0m                         )\u001b[38;5;241m.\u001b[39mwith_traceback(_traceback)\n\u001b[0;32m    350\u001b[0m \u001b[38;5;28;01melse\u001b[39;00m:\n\u001b[0;32m    351\u001b[0m     \u001b[38;5;28mself\u001b[39m\u001b[38;5;241m.\u001b[39msetup \u001b[38;5;241m=\u001b[39m \u001b[38;5;28;01mNone\u001b[39;00m\n",
      "File \u001b[1;32md:\\Users\\e196203\\.conda\\envs\\qiskit-metal\\Lib\\site-packages\\pyEPR\\project_info.py:335\u001b[0m, in \u001b[0;36mProjectInfo.connect_setup\u001b[1;34m(self)\u001b[0m\n\u001b[0;32m    333\u001b[0m         logger\u001b[38;5;241m.\u001b[39mwarning(\u001b[38;5;124m'\u001b[39m\u001b[38;5;130;01m\\t\u001b[39;00m\u001b[38;5;124mCreating Q3D default setup.\u001b[39m\u001b[38;5;124m'\u001b[39m)\n\u001b[0;32m    334\u001b[0m         setup \u001b[38;5;241m=\u001b[39m \u001b[38;5;28mself\u001b[39m\u001b[38;5;241m.\u001b[39mdesign\u001b[38;5;241m.\u001b[39mcreate_q3d_setup()\n\u001b[1;32m--> 335\u001b[0m     \u001b[38;5;28mself\u001b[39m\u001b[38;5;241m.\u001b[39msetup_name \u001b[38;5;241m=\u001b[39m \u001b[43msetup\u001b[49m\u001b[38;5;241;43m.\u001b[39;49m\u001b[43mname\u001b[49m\n\u001b[0;32m    336\u001b[0m \u001b[38;5;28;01melse\u001b[39;00m:\n\u001b[0;32m    337\u001b[0m     \u001b[38;5;28mself\u001b[39m\u001b[38;5;241m.\u001b[39msetup_name \u001b[38;5;241m=\u001b[39m setup_names[\u001b[38;5;241m0\u001b[39m]\n",
      "\u001b[1;31mException\u001b[0m:  Did you provide the correct setup name?                            Failed to pull up setup. 😭"
     ]
    }
   ],
   "source": [
    "ansys.add_drivenmodal_design('res 7GHz cap 1fF S21')"
   ]
  },
  {
   "cell_type": "code",
   "execution_count": 18,
   "metadata": {},
   "outputs": [
    {
     "data": {
      "text/plain": [
       "<pyEPR.ansys.HfssDMSetup at 0x1f32de4d110>"
      ]
     },
     "execution_count": 18,
     "metadata": {},
     "output_type": "execute_result"
    }
   ],
   "source": [
    "ansys.add_drivenmodal_setup(\n",
    "    name='setup',\n",
    "    freq_ghz=7.1,\n",
    "    min_passes=19,\n",
    "    max_passes=22,\n",
    "    min_converged=2,\n",
    "    max_delta_s=0.002,\n",
    "    basis_order=-1\n",
    ")"
   ]
  },
  {
   "cell_type": "code",
   "execution_count": 19,
   "metadata": {},
   "outputs": [],
   "source": [
    "ansys.clean_active_design()\n",
    "ansys.render_design(selection=['RES', 'CAP1', 'CAP2'], open_pins=[], port_list=[('CAP1', 'south_end',50), ('CAP2', 'south_end',50)])"
   ]
  },
  {
   "cell_type": "markdown",
   "metadata": {},
   "source": [
    "# Res 13GHz e cap 1fF"
   ]
  },
  {
   "cell_type": "code",
   "execution_count": 20,
   "metadata": {},
   "outputs": [],
   "source": [
    "design.delete_all_components()"
   ]
  },
  {
   "cell_type": "code",
   "execution_count": 21,
   "metadata": {},
   "outputs": [],
   "source": [
    "cap_opt=Dict(\n",
    "    pos_x='1mm',\n",
    "    orientation='-90',\n",
    "    north_width='20um',\n",
    "    north_gap='12um',\n",
    "    south_width='20um',\n",
    "    south_gap='12um',\n",
    "    cap_width='5um',\n",
    "    cap_gap='10um',\n",
    "    cap_gap_ground='12um',\n",
    "    finger_length='5um',\n",
    "    finger_count='3',\n",
    "    cap_distance='1um'\n",
    ")\n",
    "\n",
    "cap1 = CapNInterdigital(design, 'CAP1', options=cap_opt)\n",
    "\n",
    "cap_opt.orientation='90'\n",
    "cap_opt.pos_x='4mm'\n",
    "cap2 = CapNInterdigital(design, 'CAP2', options=cap_opt)\n",
    "\n",
    "res = RouteMeander(design, 'RES', options=Dict(\n",
    "    pin_inputs=Dict(\n",
    "        start_pin=Dict(\n",
    "            component='CAP1',\n",
    "            pin='north_end'\n",
    "        ),\n",
    "        end_pin=Dict(\n",
    "            component='CAP2',\n",
    "            pin='north_end'\n",
    "        )\n",
    "    ),\n",
    "    lead=Dict(\n",
    "        start_straight='700um',\n",
    "        end_straight='700um'\n",
    "    ),\n",
    "    total_length='4.5mm',\n",
    "    fillet='130um',\n",
    "    meander=Dict(spacing='280um'),\n",
    "    hfss_wire_bonds=True\n",
    "))\n",
    "\n",
    "pad1 = LaunchpadWirebond(design, 'PAD1', options=Dict(\n",
    "    pos_x='-1.5mm',\n",
    "    orientation='0',\n",
    "    lead_length='25um',\n",
    "    pad_width='350um',\n",
    "    pad_height='350um',\n",
    "    pad_gap='150um',\n",
    "    taper_height='370um'\n",
    "))\n",
    "\n",
    "pad2 = LaunchpadWirebond(design, 'PAD2', options=Dict(\n",
    "    pos_x='6.5mm',\n",
    "    orientation='180',\n",
    "    lead_length='25um',\n",
    "    pad_width='350um',\n",
    "    pad_height='350um',\n",
    "    pad_gap='150um',\n",
    "    taper_height='370um'\n",
    "))\n",
    "\n",
    "line1 = RouteStraight(design, 'LINE1', options=Dict(\n",
    "    pin_inputs=Dict(\n",
    "        start_pin=Dict(\n",
    "            component='CAP1',\n",
    "            pin='south_end'\n",
    "        ),\n",
    "        end_pin=Dict(\n",
    "            component='PAD1',\n",
    "            pin='tie'\n",
    "        )\n",
    "    )\n",
    "))\n",
    "\n",
    "line2 = RouteStraight(design, 'LINE2', options=Dict(\n",
    "    pin_inputs=Dict(\n",
    "        start_pin=Dict(\n",
    "            component='CAP2',\n",
    "            pin='south_end'\n",
    "        ),\n",
    "        end_pin=Dict(\n",
    "            component='PAD2',\n",
    "            pin='tie'\n",
    "        )\n",
    "    )\n",
    "))\n",
    "\n",
    "gui.rebuild()\n",
    "gui.autoscale()"
   ]
  },
  {
   "cell_type": "code",
   "execution_count": 37,
   "metadata": {},
   "outputs": [
    {
     "name": "stderr",
     "output_type": "stream",
     "text": [
      "02:35AM 37s WARNING [_import_junctions_to_one_cell]: Not able to find file:\"../resources/Fake_Junctions.GDS\".  Not used to replace junction. Checked directory:\"d:\\Users\\e196203\\Desktop\\resources\".\n"
     ]
    },
    {
     "data": {
      "text/plain": [
       "1"
      ]
     },
     "execution_count": 37,
     "metadata": {},
     "output_type": "execute_result"
    }
   ],
   "source": [
    "design.chips.main.size['size_x'] = '10mm'\n",
    "design.chips.main.size['size_y'] = '5mm'\n",
    "design.chips.main.size['center_x'] = '2.5mm'\n",
    "design.chips.main.size['center_y'] = '0mm'\n",
    "design.chips.main\n",
    "\n",
    "design.renderers.gds.export_to_gds('resonator 13GHz cap 1fF.gds')"
   ]
  },
  {
   "cell_type": "code",
   "execution_count": null,
   "metadata": {},
   "outputs": [
    {
     "name": "stderr",
     "output_type": "stream",
     "text": [
      "10:06PM 56s WARNING [add_eigenmode_design]: This method is deprecated. Change your scripts to use new_ansys_design()\n",
      "INFO 10:06PM [connect_design]: \tOpened active design\n",
      "\tDesign:    res 7GHz cap1fF1 [Solution type: Eigenmode]\n",
      "WARNING 10:06PM [connect_setup]: \tNo design setup detected.\n",
      "WARNING 10:06PM [connect_setup]: \tCreating eigenmode default setup.\n",
      "INFO 10:06PM [get_setup]: \tOpened setup `Setup`  (<class 'pyEPR.ansys.HfssEMSetup'>)\n"
     ]
    }
   ],
   "source": [
    "ansys.add_eigenmode_design('res 13GHz cap1fF')"
   ]
  },
  {
   "cell_type": "code",
   "execution_count": 23,
   "metadata": {},
   "outputs": [],
   "source": [
    "ansys.clean_active_design()\n",
    "ansys.render_design(['RES', 'CAP1','CAP2'])"
   ]
  },
  {
   "cell_type": "code",
   "execution_count": 24,
   "metadata": {},
   "outputs": [
    {
     "data": {
      "text/plain": [
       "<pyEPR.ansys.HfssEMSetup at 0x1f32847e790>"
      ]
     },
     "execution_count": 24,
     "metadata": {},
     "output_type": "execute_result"
    }
   ],
   "source": [
    "ansys.add_eigenmode_setup(\n",
    "    name='resonance',\n",
    "    n_modes=2,\n",
    "    max_passes=15,\n",
    "    min_converged=2\n",
    ")"
   ]
  },
  {
   "cell_type": "code",
   "execution_count": 25,
   "metadata": {},
   "outputs": [
    {
     "name": "stderr",
     "output_type": "stream",
     "text": [
      "INFO 10:12PM [get_setup]: \tOpened setup `resonance`  (<class 'pyEPR.ansys.HfssEMSetup'>)\n",
      "INFO 10:12PM [analyze]: Analyzing setup resonance\n"
     ]
    }
   ],
   "source": [
    "ansys.analyze_setup('resonance')"
   ]
  },
  {
   "cell_type": "code",
   "execution_count": 26,
   "metadata": {},
   "outputs": [
    {
     "data": {
      "text/plain": [
       "([13.0007885889, 25.9723609729], None)"
      ]
     },
     "execution_count": 26,
     "metadata": {},
     "output_type": "execute_result"
    }
   ],
   "source": [
    "ansys.pinfo.setup.get_solutions().eigenmodes()"
   ]
  },
  {
   "cell_type": "code",
   "execution_count": 28,
   "metadata": {},
   "outputs": [
    {
     "name": "stderr",
     "output_type": "stream",
     "text": [
      "10:22PM 41s WARNING [add_drivenmodal_design]: This method is deprecated. Change your scripts to use new_ansys_design()\n",
      "INFO 10:22PM [connect_design]: \tOpened active design\n",
      "\tDesign:    res 13GHz cap 1fF S21 [Solution type: HFSS Hybrid Modal Network]\n",
      "WARNING 10:22PM [connect_setup]: \tNo design setup detected.\n",
      "ERROR 10:22PM [connect_setup]: Original error 😭: 'NoneType' object has no attribute 'name'\n",
      "\n"
     ]
    },
    {
     "ename": "Exception",
     "evalue": " Did you provide the correct setup name?                            Failed to pull up setup. 😭",
     "output_type": "error",
     "traceback": [
      "\u001b[1;31m---------------------------------------------------------------------------\u001b[0m",
      "\u001b[1;31mAttributeError\u001b[0m                            Traceback (most recent call last)",
      "File \u001b[1;32md:\\Users\\e196203\\.conda\\envs\\qiskit-metal\\Lib\\site-packages\\pyEPR\\project_info.py:335\u001b[0m, in \u001b[0;36mProjectInfo.connect_setup\u001b[1;34m(self)\u001b[0m\n\u001b[0;32m    334\u001b[0m         setup \u001b[38;5;241m=\u001b[39m \u001b[38;5;28mself\u001b[39m\u001b[38;5;241m.\u001b[39mdesign\u001b[38;5;241m.\u001b[39mcreate_q3d_setup()\n\u001b[1;32m--> 335\u001b[0m     \u001b[38;5;28mself\u001b[39m\u001b[38;5;241m.\u001b[39msetup_name \u001b[38;5;241m=\u001b[39m \u001b[43msetup\u001b[49m\u001b[38;5;241;43m.\u001b[39;49m\u001b[43mname\u001b[49m\n\u001b[0;32m    336\u001b[0m \u001b[38;5;28;01melse\u001b[39;00m:\n",
      "\u001b[1;31mAttributeError\u001b[0m: 'NoneType' object has no attribute 'name'",
      "\nDuring handling of the above exception, another exception occurred:\n",
      "\u001b[1;31mException\u001b[0m                                 Traceback (most recent call last)",
      "Cell \u001b[1;32mIn[28], line 1\u001b[0m\n\u001b[1;32m----> 1\u001b[0m \u001b[43mansys\u001b[49m\u001b[38;5;241;43m.\u001b[39;49m\u001b[43madd_drivenmodal_design\u001b[49m\u001b[43m(\u001b[49m\u001b[38;5;124;43m'\u001b[39;49m\u001b[38;5;124;43mres 13GHz cap 1fF S21\u001b[39;49m\u001b[38;5;124;43m'\u001b[39;49m\u001b[43m)\u001b[49m\n",
      "File \u001b[1;32md:\\Users\\e196203\\.conda\\envs\\qiskit-metal\\Lib\\site-packages\\qiskit_metal\\renderers\\renderer_ansys\\hfss_renderer.py:416\u001b[0m, in \u001b[0;36mQHFSSRenderer.add_drivenmodal_design\u001b[1;34m(self, name, connect)\u001b[0m\n\u001b[0;32m    410\u001b[0m \u001b[38;5;250m\u001b[39m\u001b[38;5;124;03m\"\"\"\u001b[39;00m\n\u001b[0;32m    411\u001b[0m \u001b[38;5;124;03m(deprecated) use new_ansys_design()\u001b[39;00m\n\u001b[0;32m    412\u001b[0m \u001b[38;5;124;03m\"\"\"\u001b[39;00m\n\u001b[0;32m    413\u001b[0m \u001b[38;5;28mself\u001b[39m\u001b[38;5;241m.\u001b[39mlogger\u001b[38;5;241m.\u001b[39mwarning(\n\u001b[0;32m    414\u001b[0m     \u001b[38;5;124m'\u001b[39m\u001b[38;5;124mThis method is deprecated. Change your scripts to use new_ansys_design()\u001b[39m\u001b[38;5;124m'\u001b[39m\n\u001b[0;32m    415\u001b[0m )\n\u001b[1;32m--> 416\u001b[0m \u001b[38;5;28;43mself\u001b[39;49m\u001b[38;5;241;43m.\u001b[39;49m\u001b[43mnew_ansys_design\u001b[49m\u001b[43m(\u001b[49m\u001b[43mname\u001b[49m\u001b[43m,\u001b[49m\u001b[43m \u001b[49m\u001b[38;5;124;43m'\u001b[39;49m\u001b[38;5;124;43mdrivenmodal\u001b[39;49m\u001b[38;5;124;43m'\u001b[39;49m\u001b[43m,\u001b[49m\u001b[43m \u001b[49m\u001b[43mconnect\u001b[49m\u001b[43m)\u001b[49m\n",
      "File \u001b[1;32md:\\Users\\e196203\\.conda\\envs\\qiskit-metal\\Lib\\site-packages\\qiskit_metal\\renderers\\renderer_ansys\\ansys_renderer.py:794\u001b[0m, in \u001b[0;36mQAnsysRenderer.new_ansys_design\u001b[1;34m(self, design_name, solution_type, connect)\u001b[0m\n\u001b[0;32m    792\u001b[0m         \u001b[38;5;28;01mraise\u001b[39;00m\n\u001b[0;32m    793\u001b[0m     \u001b[38;5;28;01mif\u001b[39;00m connect:\n\u001b[1;32m--> 794\u001b[0m         \u001b[38;5;28;43mself\u001b[39;49m\u001b[38;5;241;43m.\u001b[39;49m\u001b[43mconnect_ansys_design\u001b[49m\u001b[43m(\u001b[49m\u001b[43madesign\u001b[49m\u001b[38;5;241;43m.\u001b[39;49m\u001b[43mname\u001b[49m\u001b[43m)\u001b[49m\n\u001b[0;32m    795\u001b[0m     \u001b[38;5;28;01mreturn\u001b[39;00m adesign\n\u001b[0;32m    796\u001b[0m \u001b[38;5;28;01melse\u001b[39;00m:\n",
      "File \u001b[1;32md:\\Users\\e196203\\.conda\\envs\\qiskit-metal\\Lib\\site-packages\\qiskit_metal\\renderers\\renderer_ansys\\ansys_renderer.py:462\u001b[0m, in \u001b[0;36mQAnsysRenderer.connect_ansys_design\u001b[1;34m(self, design_name)\u001b[0m\n\u001b[0;32m    460\u001b[0m \u001b[38;5;28;01mtry\u001b[39;00m:\n\u001b[0;32m    461\u001b[0m     \u001b[38;5;28mself\u001b[39m\u001b[38;5;241m.\u001b[39mpinfo\u001b[38;5;241m.\u001b[39mconnect_design(design_name)\n\u001b[1;32m--> 462\u001b[0m     \u001b[38;5;28;43mself\u001b[39;49m\u001b[38;5;241;43m.\u001b[39;49m\u001b[43mpinfo\u001b[49m\u001b[38;5;241;43m.\u001b[39;49m\u001b[43mconnect_setup\u001b[49m\u001b[43m(\u001b[49m\u001b[43m)\u001b[49m\n\u001b[0;32m    463\u001b[0m \u001b[38;5;28;01mexcept\u001b[39;00m \u001b[38;5;167;01mAttributeError\u001b[39;00m:\n\u001b[0;32m    464\u001b[0m     \u001b[38;5;28mself\u001b[39m\u001b[38;5;241m.\u001b[39mlogger\u001b[38;5;241m.\u001b[39merror(\n\u001b[0;32m    465\u001b[0m         \u001b[38;5;124m\"\u001b[39m\u001b[38;5;124mPlease install a more recent version of pyEPR (>=0.8.4.3)\u001b[39m\u001b[38;5;124m\"\u001b[39m\n\u001b[0;32m    466\u001b[0m     )\n",
      "File \u001b[1;32md:\\Users\\e196203\\.conda\\envs\\qiskit-metal\\Lib\\site-packages\\pyEPR\\project_info.py:346\u001b[0m, in \u001b[0;36mProjectInfo.connect_setup\u001b[1;34m(self)\u001b[0m\n\u001b[0;32m    344\u001b[0m         _traceback \u001b[38;5;241m=\u001b[39m sys\u001b[38;5;241m.\u001b[39mexc_info()[\u001b[38;5;241m2\u001b[39m]\n\u001b[0;32m    345\u001b[0m         logger\u001b[38;5;241m.\u001b[39merror(\u001b[38;5;124mf\u001b[39m\u001b[38;5;124m\"\u001b[39m\u001b[38;5;124mOriginal error \u001b[39m\u001b[38;5;130;01m\\N{loudly crying face}\u001b[39;00m\u001b[38;5;124m: \u001b[39m\u001b[38;5;132;01m{\u001b[39;00me\u001b[38;5;132;01m}\u001b[39;00m\u001b[38;5;130;01m\\n\u001b[39;00m\u001b[38;5;124m\"\u001b[39m)\n\u001b[1;32m--> 346\u001b[0m         \u001b[38;5;28;01mraise\u001b[39;00m \u001b[38;5;167;01mException\u001b[39;00m(\u001b[38;5;124m'\u001b[39m\u001b[38;5;124m Did you provide the correct setup name?\u001b[39m\u001b[38;5;130;01m\\\u001b[39;00m\n\u001b[0;32m    347\u001b[0m \u001b[38;5;124m                    Failed to pull up setup. \u001b[39m\u001b[38;5;130;01m\\N{loudly crying face}\u001b[39;00m\u001b[38;5;124m'\u001b[39m\n\u001b[0;32m    348\u001b[0m                         )\u001b[38;5;241m.\u001b[39mwith_traceback(_traceback)\n\u001b[0;32m    350\u001b[0m \u001b[38;5;28;01melse\u001b[39;00m:\n\u001b[0;32m    351\u001b[0m     \u001b[38;5;28mself\u001b[39m\u001b[38;5;241m.\u001b[39msetup \u001b[38;5;241m=\u001b[39m \u001b[38;5;28;01mNone\u001b[39;00m\n",
      "File \u001b[1;32md:\\Users\\e196203\\.conda\\envs\\qiskit-metal\\Lib\\site-packages\\pyEPR\\project_info.py:335\u001b[0m, in \u001b[0;36mProjectInfo.connect_setup\u001b[1;34m(self)\u001b[0m\n\u001b[0;32m    333\u001b[0m         logger\u001b[38;5;241m.\u001b[39mwarning(\u001b[38;5;124m'\u001b[39m\u001b[38;5;130;01m\\t\u001b[39;00m\u001b[38;5;124mCreating Q3D default setup.\u001b[39m\u001b[38;5;124m'\u001b[39m)\n\u001b[0;32m    334\u001b[0m         setup \u001b[38;5;241m=\u001b[39m \u001b[38;5;28mself\u001b[39m\u001b[38;5;241m.\u001b[39mdesign\u001b[38;5;241m.\u001b[39mcreate_q3d_setup()\n\u001b[1;32m--> 335\u001b[0m     \u001b[38;5;28mself\u001b[39m\u001b[38;5;241m.\u001b[39msetup_name \u001b[38;5;241m=\u001b[39m \u001b[43msetup\u001b[49m\u001b[38;5;241;43m.\u001b[39;49m\u001b[43mname\u001b[49m\n\u001b[0;32m    336\u001b[0m \u001b[38;5;28;01melse\u001b[39;00m:\n\u001b[0;32m    337\u001b[0m     \u001b[38;5;28mself\u001b[39m\u001b[38;5;241m.\u001b[39msetup_name \u001b[38;5;241m=\u001b[39m setup_names[\u001b[38;5;241m0\u001b[39m]\n",
      "\u001b[1;31mException\u001b[0m:  Did you provide the correct setup name?                            Failed to pull up setup. 😭"
     ]
    }
   ],
   "source": [
    "ansys.add_drivenmodal_design('res 13GHz cap 1fF S21')"
   ]
  },
  {
   "cell_type": "code",
   "execution_count": 29,
   "metadata": {},
   "outputs": [
    {
     "data": {
      "text/plain": [
       "<pyEPR.ansys.HfssDMSetup at 0x1f328489990>"
      ]
     },
     "execution_count": 29,
     "metadata": {},
     "output_type": "execute_result"
    }
   ],
   "source": [
    "ansys.add_drivenmodal_setup(\n",
    "    name='setup',\n",
    "    freq_ghz=13,\n",
    "    min_passes=19,\n",
    "    max_passes=22,\n",
    "    min_converged=2,\n",
    "    max_delta_s=0.002,\n",
    "    basis_order=-1\n",
    ")"
   ]
  },
  {
   "cell_type": "code",
   "execution_count": 30,
   "metadata": {},
   "outputs": [],
   "source": [
    "ansys.clean_active_design()\n",
    "ansys.render_design(selection=['RES', 'CAP1', 'CAP2'], open_pins=[], port_list=[('CAP1', 'south_end',50), ('CAP2', 'south_end',50)])"
   ]
  },
  {
   "cell_type": "markdown",
   "metadata": {},
   "source": [
    "# Res 3GHz e cap 5fF"
   ]
  },
  {
   "cell_type": "code",
   "execution_count": 47,
   "metadata": {},
   "outputs": [],
   "source": [
    "design.delete_all_components()"
   ]
  },
  {
   "cell_type": "code",
   "execution_count": 48,
   "metadata": {},
   "outputs": [],
   "source": [
    "cap_opt=Dict(\n",
    "    orientation='-90',\n",
    "    north_width='20um',\n",
    "    north_gap='12um',\n",
    "    south_width='20um',\n",
    "    south_gap='12um',\n",
    "    cap_width='5um',\n",
    "    cap_gap='10um',\n",
    "    cap_gap_ground='12um',\n",
    "    finger_length='45um',\n",
    "    finger_count='3',\n",
    "    cap_distance='1um'\n",
    ")\n",
    "\n",
    "cap1 = CapNInterdigital(design, 'CAP1', options=cap_opt)\n",
    "\n",
    "cap_opt.orientation='90'\n",
    "cap_opt.pos_x='5mm'\n",
    "cap2 = CapNInterdigital(design, 'CAP2', options=cap_opt)\n",
    "\n",
    "res = RouteMeander(design, 'RES', options=Dict(\n",
    "    pin_inputs=Dict(\n",
    "        start_pin=Dict(\n",
    "            component='CAP1',\n",
    "            pin='north_end'\n",
    "        ),\n",
    "        end_pin=Dict(\n",
    "            component='CAP2',\n",
    "            pin='north_end'\n",
    "        )\n",
    "    ),\n",
    "    lead=Dict(\n",
    "        start_straight='500um',\n",
    "        end_straight='500um'\n",
    "    ),\n",
    "    total_length='20mm',\n",
    "    fillet='130um',\n",
    "    meander=Dict(spacing='280um'),\n",
    "    hfss_wire_bonds=True\n",
    "))\n",
    "\n",
    "pad1 = LaunchpadWirebond(design, 'PAD1', options=Dict(\n",
    "    pos_x='-1.5mm',\n",
    "    orientation='0',\n",
    "    lead_length='25um',\n",
    "    pad_width='350um',\n",
    "    pad_height='350um',\n",
    "    pad_gap='150um',\n",
    "    taper_height='370um'\n",
    "))\n",
    "\n",
    "pad2 = LaunchpadWirebond(design, 'PAD2', options=Dict(\n",
    "    pos_x='6.5mm',\n",
    "    orientation='180',\n",
    "    lead_length='25um',\n",
    "    pad_width='350um',\n",
    "    pad_height='350um',\n",
    "    pad_gap='150um',\n",
    "    taper_height='370um'\n",
    "))\n",
    "\n",
    "line1 = RouteStraight(design, 'LINE1', options=Dict(\n",
    "    pin_inputs=Dict(\n",
    "        start_pin=Dict(\n",
    "            component='CAP1',\n",
    "            pin='south_end'\n",
    "        ),\n",
    "        end_pin=Dict(\n",
    "            component='PAD1',\n",
    "            pin='tie'\n",
    "        )\n",
    "    )\n",
    "))\n",
    "\n",
    "line2 = RouteStraight(design, 'LINE2', options=Dict(\n",
    "    pin_inputs=Dict(\n",
    "        start_pin=Dict(\n",
    "            component='CAP2',\n",
    "            pin='south_end'\n",
    "        ),\n",
    "        end_pin=Dict(\n",
    "            component='PAD2',\n",
    "            pin='tie'\n",
    "        )\n",
    "    )\n",
    "))\n",
    "\n",
    "gui.rebuild()\n",
    "gui.autoscale()"
   ]
  },
  {
   "cell_type": "code",
   "execution_count": 40,
   "metadata": {},
   "outputs": [
    {
     "name": "stderr",
     "output_type": "stream",
     "text": [
      "02:37AM 18s WARNING [_import_junctions_to_one_cell]: Not able to find file:\"../resources/Fake_Junctions.GDS\".  Not used to replace junction. Checked directory:\"d:\\Users\\e196203\\Desktop\\resources\".\n"
     ]
    },
    {
     "data": {
      "text/plain": [
       "1"
      ]
     },
     "execution_count": 40,
     "metadata": {},
     "output_type": "execute_result"
    }
   ],
   "source": [
    "design.chips.main.size['size_x'] = '10mm'\n",
    "design.chips.main.size['size_y'] = '5mm'\n",
    "design.chips.main.size['center_x'] = '2.5mm'\n",
    "design.chips.main.size['center_y'] = '0mm'\n",
    "design.chips.main\n",
    "\n",
    "design.renderers.gds.export_to_gds('resonator 3GHz cap 5fF.gds')"
   ]
  },
  {
   "cell_type": "code",
   "execution_count": 34,
   "metadata": {},
   "outputs": [
    {
     "data": {
      "text/plain": [
       "True"
      ]
     },
     "execution_count": 34,
     "metadata": {},
     "output_type": "execute_result"
    }
   ],
   "source": [
    "gui.main_window.close()"
   ]
  },
  {
   "cell_type": "markdown",
   "metadata": {},
   "source": [
    "# Res 3GHz e cap 51 fF"
   ]
  },
  {
   "cell_type": "code",
   "execution_count": 49,
   "metadata": {},
   "outputs": [],
   "source": [
    "design.delete_all_components()"
   ]
  },
  {
   "cell_type": "code",
   "execution_count": 50,
   "metadata": {},
   "outputs": [],
   "source": [
    "cap_opt=Dict(\n",
    "    orientation='-90',\n",
    "    north_width='20um',\n",
    "    north_gap='12um',\n",
    "    south_width='20um',\n",
    "    south_gap='12um',\n",
    "    cap_width='15um',\n",
    "    cap_gap='5um',\n",
    "    cap_gap_ground='12um',\n",
    "    finger_length='50um',\n",
    "    finger_count='5',\n",
    "    cap_distance='1um'\n",
    ")\n",
    "\n",
    "cap1 = CapNInterdigital(design, 'CAP1', options=cap_opt)\n",
    "\n",
    "cap_opt.orientation='90'\n",
    "cap_opt.pos_x='5mm'\n",
    "cap2 = CapNInterdigital(design, 'CAP2', options=cap_opt)\n",
    "\n",
    "res = RouteMeander(design, 'RES', options=Dict(\n",
    "    pin_inputs=Dict(\n",
    "        start_pin=Dict(\n",
    "            component='CAP1',\n",
    "            pin='north_end'\n",
    "        ),\n",
    "        end_pin=Dict(\n",
    "            component='CAP2',\n",
    "            pin='north_end'\n",
    "        )\n",
    "    ),\n",
    "    lead=Dict(\n",
    "        start_straight='500um',\n",
    "        end_straight='500um'\n",
    "    ),\n",
    "    total_length='20mm',\n",
    "    fillet='130um',\n",
    "    meander=Dict(spacing='280um'),\n",
    "    hfss_wire_bonds=True\n",
    "))\n",
    "\n",
    "pad1 = LaunchpadWirebond(design, 'PAD1', options=Dict(\n",
    "    pos_x='-1.5mm',\n",
    "    orientation='0',\n",
    "    lead_length='25um',\n",
    "    pad_width='350um',\n",
    "    pad_height='350um',\n",
    "    pad_gap='150um',\n",
    "    taper_height='370um'\n",
    "))\n",
    "\n",
    "pad2 = LaunchpadWirebond(design, 'PAD2', options=Dict(\n",
    "    pos_x='6.5mm',\n",
    "    orientation='180',\n",
    "    lead_length='25um',\n",
    "    pad_width='350um',\n",
    "    pad_height='350um',\n",
    "    pad_gap='150um',\n",
    "    taper_height='370um'\n",
    "))\n",
    "\n",
    "line1 = RouteStraight(design, 'LINE1', options=Dict(\n",
    "    pin_inputs=Dict(\n",
    "        start_pin=Dict(\n",
    "            component='CAP1',\n",
    "            pin='south_end'\n",
    "        ),\n",
    "        end_pin=Dict(\n",
    "            component='PAD1',\n",
    "            pin='tie'\n",
    "        )\n",
    "    )\n",
    "))\n",
    "\n",
    "line2 = RouteStraight(design, 'LINE2', options=Dict(\n",
    "    pin_inputs=Dict(\n",
    "        start_pin=Dict(\n",
    "            component='CAP2',\n",
    "            pin='south_end'\n",
    "        ),\n",
    "        end_pin=Dict(\n",
    "            component='PAD2',\n",
    "            pin='tie'\n",
    "        )\n",
    "    )\n",
    "))\n",
    "\n",
    "gui.rebuild()\n",
    "gui.autoscale()"
   ]
  },
  {
   "cell_type": "code",
   "execution_count": 51,
   "metadata": {},
   "outputs": [
    {
     "name": "stderr",
     "output_type": "stream",
     "text": [
      "02:09PM 43s WARNING [_import_junctions_to_one_cell]: Not able to find file:\"../resources/Fake_Junctions.GDS\".  Not used to replace junction. Checked directory:\"d:\\Users\\e196203\\Desktop\\resources\".\n"
     ]
    },
    {
     "data": {
      "text/plain": [
       "1"
      ]
     },
     "execution_count": 51,
     "metadata": {},
     "output_type": "execute_result"
    }
   ],
   "source": [
    "design.chips.main.size['size_x'] = '10mm'\n",
    "design.chips.main.size['size_y'] = '5mm'\n",
    "design.chips.main.size['center_x'] = '2.5mm'\n",
    "design.chips.main.size['center_y'] = '0mm'\n",
    "design.chips.main\n",
    "\n",
    "design.renderers.gds.export_to_gds('resonator 3GHz cap 51fF.gds')"
   ]
  },
  {
   "cell_type": "markdown",
   "metadata": {},
   "source": [
    "# Res 7GHz e cap 51fF"
   ]
  },
  {
   "cell_type": "code",
   "execution_count": 52,
   "metadata": {},
   "outputs": [],
   "source": [
    "design.delete_all_components()"
   ]
  },
  {
   "cell_type": "code",
   "execution_count": 53,
   "metadata": {},
   "outputs": [],
   "source": [
    "cap_opt=Dict(\n",
    "    orientation='-90',\n",
    "    north_width='20um',\n",
    "    north_gap='12um',\n",
    "    south_width='20um',\n",
    "    south_gap='12um',\n",
    "    cap_width='15um',\n",
    "    cap_gap='5um',\n",
    "    cap_gap_ground='12um',\n",
    "    finger_length='50um',\n",
    "    finger_count='5',\n",
    "    cap_distance='1um'\n",
    ")\n",
    "\n",
    "cap1 = CapNInterdigital(design, 'CAP1', options=cap_opt)\n",
    "\n",
    "cap_opt.orientation='90'\n",
    "cap_opt.pos_x='5mm'\n",
    "cap2 = CapNInterdigital(design, 'CAP2', options=cap_opt)\n",
    "\n",
    "res = RouteMeander(design, 'RES', options=Dict(\n",
    "    pin_inputs=Dict(\n",
    "        start_pin=Dict(\n",
    "            component='CAP1',\n",
    "            pin='north_end'\n",
    "        ),\n",
    "        end_pin=Dict(\n",
    "            component='CAP2',\n",
    "            pin='north_end'\n",
    "        )\n",
    "    ),\n",
    "    lead=Dict(\n",
    "        start_straight='1500um',\n",
    "        end_straight='1500um'\n",
    "    ),\n",
    "    total_length='8.3mm',\n",
    "    fillet='130um',\n",
    "    meander=Dict(spacing='280um'),\n",
    "    hfss_wire_bonds=True\n",
    "))\n",
    "\n",
    "pad1 = LaunchpadWirebond(design, 'PAD1', options=Dict(\n",
    "    pos_x='-1.5mm',\n",
    "    orientation='0',\n",
    "    lead_length='25um',\n",
    "    pad_width='350um',\n",
    "    pad_height='350um',\n",
    "    pad_gap='150um',\n",
    "    taper_height='370um'\n",
    "))\n",
    "\n",
    "pad2 = LaunchpadWirebond(design, 'PAD2', options=Dict(\n",
    "    pos_x='6.5mm',\n",
    "    orientation='180',\n",
    "    lead_length='25um',\n",
    "    pad_width='350um',\n",
    "    pad_height='350um',\n",
    "    pad_gap='150um',\n",
    "    taper_height='370um'\n",
    "))\n",
    "\n",
    "line1 = RouteStraight(design, 'LINE1', options=Dict(\n",
    "    pin_inputs=Dict(\n",
    "        start_pin=Dict(\n",
    "            component='CAP1',\n",
    "            pin='south_end'\n",
    "        ),\n",
    "        end_pin=Dict(\n",
    "            component='PAD1',\n",
    "            pin='tie'\n",
    "        )\n",
    "    )\n",
    "))\n",
    "\n",
    "line2 = RouteStraight(design, 'LINE2', options=Dict(\n",
    "    pin_inputs=Dict(\n",
    "        start_pin=Dict(\n",
    "            component='CAP2',\n",
    "            pin='south_end'\n",
    "        ),\n",
    "        end_pin=Dict(\n",
    "            component='PAD2',\n",
    "            pin='tie'\n",
    "        )\n",
    "    )\n",
    "))\n",
    "\n",
    "gui.rebuild()\n",
    "gui.autoscale()"
   ]
  },
  {
   "cell_type": "code",
   "execution_count": 54,
   "metadata": {},
   "outputs": [
    {
     "name": "stderr",
     "output_type": "stream",
     "text": [
      "02:11PM 37s WARNING [_import_junctions_to_one_cell]: Not able to find file:\"../resources/Fake_Junctions.GDS\".  Not used to replace junction. Checked directory:\"d:\\Users\\e196203\\Desktop\\resources\".\n"
     ]
    },
    {
     "data": {
      "text/plain": [
       "1"
      ]
     },
     "execution_count": 54,
     "metadata": {},
     "output_type": "execute_result"
    }
   ],
   "source": [
    "design.chips.main.size['size_x'] = '10mm'\n",
    "design.chips.main.size['size_y'] = '5mm'\n",
    "design.chips.main.size['center_x'] = '2.5mm'\n",
    "design.chips.main.size['center_y'] = '0mm'\n",
    "design.chips.main\n",
    "\n",
    "design.renderers.gds.export_to_gds('resonator 7GHz cap 51fF.gds')"
   ]
  },
  {
   "cell_type": "markdown",
   "metadata": {},
   "source": [
    "# Res 13GHz e cap 51fF"
   ]
  },
  {
   "cell_type": "code",
   "execution_count": 55,
   "metadata": {},
   "outputs": [],
   "source": [
    "design.delete_all_components()"
   ]
  },
  {
   "cell_type": "code",
   "execution_count": 56,
   "metadata": {},
   "outputs": [],
   "source": [
    "cap_opt=Dict(\n",
    "    pos_x='1mm',\n",
    "    orientation='-90',\n",
    "    north_width='20um',\n",
    "    north_gap='12um',\n",
    "    south_width='20um',\n",
    "    south_gap='12um',\n",
    "    cap_width='15um',\n",
    "    cap_gap='5um',\n",
    "    cap_gap_ground='12um',\n",
    "    finger_length='50um',\n",
    "    finger_count='5',\n",
    "    cap_distance='1um'\n",
    ")\n",
    "\n",
    "cap1 = CapNInterdigital(design, 'CAP1', options=cap_opt)\n",
    "\n",
    "cap_opt.orientation='90'\n",
    "cap_opt.pos_x='4mm'\n",
    "cap2 = CapNInterdigital(design, 'CAP2', options=cap_opt)\n",
    "\n",
    "res = RouteMeander(design, 'RES', options=Dict(\n",
    "    pin_inputs=Dict(\n",
    "        start_pin=Dict(\n",
    "            component='CAP1',\n",
    "            pin='north_end'\n",
    "        ),\n",
    "        end_pin=Dict(\n",
    "            component='CAP2',\n",
    "            pin='north_end'\n",
    "        )\n",
    "    ),\n",
    "    lead=Dict(\n",
    "        start_straight='700um',\n",
    "        end_straight='700um'\n",
    "    ),\n",
    "    total_length='4.5mm',\n",
    "    fillet='130um',\n",
    "    meander=Dict(spacing='280um'),\n",
    "    hfss_wire_bonds=True\n",
    "))\n",
    "\n",
    "pad1 = LaunchpadWirebond(design, 'PAD1', options=Dict(\n",
    "    pos_x='-1.5mm',\n",
    "    orientation='0',\n",
    "    lead_length='25um',\n",
    "    pad_width='350um',\n",
    "    pad_height='350um',\n",
    "    pad_gap='150um',\n",
    "    taper_height='370um'\n",
    "))\n",
    "\n",
    "pad2 = LaunchpadWirebond(design, 'PAD2', options=Dict(\n",
    "    pos_x='6.5mm',\n",
    "    orientation='180',\n",
    "    lead_length='25um',\n",
    "    pad_width='350um',\n",
    "    pad_height='350um',\n",
    "    pad_gap='150um',\n",
    "    taper_height='370um'\n",
    "))\n",
    "\n",
    "line1 = RouteStraight(design, 'LINE1', options=Dict(\n",
    "    pin_inputs=Dict(\n",
    "        start_pin=Dict(\n",
    "            component='CAP1',\n",
    "            pin='south_end'\n",
    "        ),\n",
    "        end_pin=Dict(\n",
    "            component='PAD1',\n",
    "            pin='tie'\n",
    "        )\n",
    "    )\n",
    "))\n",
    "\n",
    "line2 = RouteStraight(design, 'LINE2', options=Dict(\n",
    "    pin_inputs=Dict(\n",
    "        start_pin=Dict(\n",
    "            component='CAP2',\n",
    "            pin='south_end'\n",
    "        ),\n",
    "        end_pin=Dict(\n",
    "            component='PAD2',\n",
    "            pin='tie'\n",
    "        )\n",
    "    )\n",
    "))\n",
    "\n",
    "gui.rebuild()\n",
    "gui.autoscale()"
   ]
  },
  {
   "cell_type": "code",
   "execution_count": 57,
   "metadata": {},
   "outputs": [
    {
     "name": "stderr",
     "output_type": "stream",
     "text": [
      "02:11PM 56s WARNING [_import_junctions_to_one_cell]: Not able to find file:\"../resources/Fake_Junctions.GDS\".  Not used to replace junction. Checked directory:\"d:\\Users\\e196203\\Desktop\\resources\".\n"
     ]
    },
    {
     "data": {
      "text/plain": [
       "1"
      ]
     },
     "execution_count": 57,
     "metadata": {},
     "output_type": "execute_result"
    }
   ],
   "source": [
    "design.chips.main.size['size_x'] = '10mm'\n",
    "design.chips.main.size['size_y'] = '5mm'\n",
    "design.chips.main.size['center_x'] = '2.5mm'\n",
    "design.chips.main.size['center_y'] = '0mm'\n",
    "design.chips.main\n",
    "\n",
    "design.renderers.gds.export_to_gds('resonator 13GHz cap 51fF.gds')"
   ]
  },
  {
   "cell_type": "code",
   "execution_count": 58,
   "metadata": {},
   "outputs": [
    {
     "data": {
      "text/plain": [
       "True"
      ]
     },
     "execution_count": 58,
     "metadata": {},
     "output_type": "execute_result"
    }
   ],
   "source": [
    "gui.main_window.close()"
   ]
  }
 ],
 "metadata": {
  "kernelspec": {
   "display_name": "qiskit-metal",
   "language": "python",
   "name": "python3"
  },
  "language_info": {
   "codemirror_mode": {
    "name": "ipython",
    "version": 3
   },
   "file_extension": ".py",
   "mimetype": "text/x-python",
   "name": "python",
   "nbconvert_exporter": "python",
   "pygments_lexer": "ipython3",
   "version": "3.11.10"
  }
 },
 "nbformat": 4,
 "nbformat_minor": 2
}
